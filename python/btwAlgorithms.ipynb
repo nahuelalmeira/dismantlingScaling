{
 "cells": [
  {
   "cell_type": "markdown",
   "metadata": {},
   "source": [
    "## Performance comparison of exact calculation of betweenness using different packages, and approximations given in NetworKit"
   ]
  },
  {
   "cell_type": "code",
   "execution_count": 1,
   "metadata": {},
   "outputs": [
    {
     "data": {
      "text/html": [
       "\n",
       "\t\t\t<script type=\"text/javascript\">\n",
       "\t\t\t<!--\n",
       "\t\t\t\t\n",
       "\t\t\t{\n",
       "\t\t\t\tvar element = document.getElementById('NetworKit_script');\n",
       "\t\t\t\tif (element) {\n",
       "\t\t\t\t\telement.parentNode.removeChild(element);\n",
       "\t\t\t\t}\n",
       "\t\t\t\telement = document.createElement('script');\n",
       "\t\t\t\telement.type = 'text/javascript';\n",
       "\t\t\t\telement.innerHTML = 'function NetworKit_pageEmbed(id) { var i, j; var elements; elements = document.getElementById(id).getElementsByClassName(\"Plot\"); for (i=0; i<elements.length; i++) { elements[i].id = id + \"_Plot_\" + i; var data = elements[i].getAttribute(\"data-image\").split(\"|\"); elements[i].removeAttribute(\"data-image\"); var content = \"<div class=\\\\\"Image\\\\\" id=\\\\\"\" + elements[i].id + \"_Image\\\\\" />\"; elements[i].innerHTML = content; elements[i].setAttribute(\"data-image-index\", 0); elements[i].setAttribute(\"data-image-length\", data.length); for (j=0; j<data.length; j++) { elements[i].setAttribute(\"data-image-\" + j, data[j]); } NetworKit_plotUpdate(elements[i]); elements[i].onclick = function (e) { NetworKit_overlayShow((e.target) ? e.target : e.srcElement); } } elements = document.getElementById(id).getElementsByClassName(\"HeatCell\"); for (i=0; i<elements.length; i++) { var data = parseFloat(elements[i].getAttribute(\"data-heat\")); var color = \"#00FF00\"; if (data <= 1 && data > 0) { color = \"hsla(0, 100%, 75%, \" + (data) + \")\"; } else if (data <= 0 && data >= -1) { color = \"hsla(240, 100%, 75%, \" + (-data) + \")\"; } elements[i].style.backgroundColor = color; } elements = document.getElementById(id).getElementsByClassName(\"Details\"); for (i=0; i<elements.length; i++) { elements[i].setAttribute(\"data-title\", \"-\"); NetworKit_toggleDetails(elements[i]); elements[i].onclick = function (e) { NetworKit_toggleDetails((e.target) ? e.target : e.srcElement); } } elements = document.getElementById(id).getElementsByClassName(\"MathValue\"); for (i=elements.length-1; i>=0; i--) { value = elements[i].innerHTML.trim(); if (value === \"nan\") { elements[i].parentNode.innerHTML = \"\" } } elements = document.getElementById(id).getElementsByClassName(\"SubCategory\"); for (i=elements.length-1; i>=0; i--) { value = elements[i].innerHTML.trim(); if (value === \"\") { elements[i].parentNode.removeChild(elements[i]) } } elements = document.getElementById(id).getElementsByClassName(\"Category\"); for (i=elements.length-1; i>=0; i--) { value = elements[i].innerHTML.trim(); if (value === \"\") { elements[i].parentNode.removeChild(elements[i]) } } var isFirefox = false; try { isFirefox = typeof InstallTrigger !== \"undefined\"; } catch (e) {} if (!isFirefox) { alert(\"Currently the function\\'s output is only fully supported by Firefox.\"); } } function NetworKit_plotUpdate(source) { var index = source.getAttribute(\"data-image-index\"); var data = source.getAttribute(\"data-image-\" + index); var image = document.getElementById(source.id + \"_Image\"); image.style.backgroundImage = \"url(\" + data + \")\"; } function NetworKit_showElement(id, show) { var element = document.getElementById(id); element.style.display = (show) ? \"block\" : \"none\"; } function NetworKit_overlayShow(source) { NetworKit_overlayUpdate(source); NetworKit_showElement(\"NetworKit_Overlay\", true); } function NetworKit_overlayUpdate(source) { document.getElementById(\"NetworKit_Overlay_Title\").innerHTML = source.title; var index = source.getAttribute(\"data-image-index\"); var data = source.getAttribute(\"data-image-\" + index); var image = document.getElementById(\"NetworKit_Overlay_Image\"); image.setAttribute(\"data-id\", source.id); image.style.backgroundImage = \"url(\" + data + \")\"; var link = document.getElementById(\"NetworKit_Overlay_Toolbar_Bottom_Save\"); link.href = data; link.download = source.title + \".svg\"; } function NetworKit_overlayImageShift(delta) { var image = document.getElementById(\"NetworKit_Overlay_Image\"); var source = document.getElementById(image.getAttribute(\"data-id\")); var index = parseInt(source.getAttribute(\"data-image-index\")); var length = parseInt(source.getAttribute(\"data-image-length\")); var index = (index+delta) % length; if (index < 0) { index = length + index; } source.setAttribute(\"data-image-index\", index); NetworKit_overlayUpdate(source); } function NetworKit_toggleDetails(source) { var childs = source.children; var show = false; if (source.getAttribute(\"data-title\") == \"-\") { source.setAttribute(\"data-title\", \"+\"); show = false; } else { source.setAttribute(\"data-title\", \"-\"); show = true; } for (i=0; i<childs.length; i++) { if (show) { childs[i].style.display = \"block\"; } else { childs[i].style.display = \"none\"; } } }';\n",
       "\t\t\t\telement.setAttribute('id', 'NetworKit_script');\n",
       "\t\t\t\tdocument.head.appendChild(element);\n",
       "\t\t\t}\n",
       "\t\t\n",
       "\t\t\t\t\n",
       "\t\t\t{\n",
       "\t\t\t\tvar element = document.getElementById('NetworKit_style');\n",
       "\t\t\t\tif (element) {\n",
       "\t\t\t\t\telement.parentNode.removeChild(element);\n",
       "\t\t\t\t}\n",
       "\t\t\t\telement = document.createElement('style');\n",
       "\t\t\t\telement.type = 'text/css';\n",
       "\t\t\t\telement.innerHTML = '.NetworKit_Page { font-family: Arial, Helvetica, sans-serif; font-size: 14px; } .NetworKit_Page .Value:before { font-family: Arial, Helvetica, sans-serif; font-size: 1.05em; content: attr(data-title) \":\"; margin-left: -2.5em; padding-right: 0.5em; } .NetworKit_Page .Details .Value:before { display: block; } .NetworKit_Page .Value { font-family: monospace; white-space: pre; padding-left: 2.5em; white-space: -moz-pre-wrap !important; white-space: -pre-wrap; white-space: -o-pre-wrap; white-space: pre-wrap; word-wrap: break-word; tab-size: 4; -moz-tab-size: 4; } .NetworKit_Page .Category { clear: both; padding-left: 1em; margin-bottom: 1.5em; } .NetworKit_Page .Category:before { content: attr(data-title); font-size: 1.75em; display: block; margin-left: -0.8em; margin-bottom: 0.5em; } .NetworKit_Page .SubCategory { margin-bottom: 1.5em; padding-left: 1em; } .NetworKit_Page .SubCategory:before { font-size: 1.6em; display: block; margin-left: -0.8em; margin-bottom: 0.5em; } .NetworKit_Page .SubCategory[data-title]:before { content: attr(data-title); } .NetworKit_Page .Block { display: block; } .NetworKit_Page .Block:after { content: \".\"; visibility: hidden; display: block; height: 0; clear: both; } .NetworKit_Page .Block .Thumbnail_Overview, .NetworKit_Page .Block .Thumbnail_ScatterPlot { width: 260px; float: left; } .NetworKit_Page .Block .Thumbnail_Overview img, .NetworKit_Page .Block .Thumbnail_ScatterPlot img { width: 260px; } .NetworKit_Page .Block .Thumbnail_Overview:before, .NetworKit_Page .Block .Thumbnail_ScatterPlot:before { display: block; text-align: center; font-weight: bold; } .NetworKit_Page .Block .Thumbnail_Overview:before { content: attr(data-title); } .NetworKit_Page .HeatCell { font-family: \"Courier New\", Courier, monospace; cursor: pointer; } .NetworKit_Page .HeatCell, .NetworKit_Page .HeatCellName { display: inline; padding: 0.1em; margin-right: 2px; background-color: #FFFFFF } .NetworKit_Page .HeatCellName { margin-left: 0.25em; } .NetworKit_Page .HeatCell:before { content: attr(data-heat); display: inline-block; color: #000000; width: 4em; text-align: center; } .NetworKit_Page .Measure { clear: both; } .NetworKit_Page .Measure .Details { cursor: pointer; } .NetworKit_Page .Measure .Details:before { content: \"[\" attr(data-title) \"]\"; display: block; } .NetworKit_Page .Measure .Details .Value { border-left: 1px dotted black; margin-left: 0.4em; padding-left: 3.5em; pointer-events: none; } .NetworKit_Page .Measure .Details .Spacer:before { content: \".\"; opacity: 0.0; pointer-events: none; } .NetworKit_Page .Measure .Plot { width: 440px; height: 440px; cursor: pointer; float: left; margin-left: -0.9em; margin-right: 20px; } .NetworKit_Page .Measure .Plot .Image { background-repeat: no-repeat; background-position: center center; background-size: contain; height: 100%; pointer-events: none; } .NetworKit_Page .Measure .Stat { width: 500px; float: left; } .NetworKit_Page .Measure .Stat .Group { padding-left: 1.25em; margin-bottom: 0.75em; } .NetworKit_Page .Measure .Stat .Group .Title { font-size: 1.1em; display: block; margin-bottom: 0.3em; margin-left: -0.75em; border-right-style: dotted; border-right-width: 1px; border-bottom-style: dotted; border-bottom-width: 1px; background-color: #D0D0D0; padding-left: 0.2em; } .NetworKit_Page .Measure .Stat .Group .List { -webkit-column-count: 3; -moz-column-count: 3; column-count: 3; } .NetworKit_Page .Measure .Stat .Group .List .Entry { position: relative; line-height: 1.75em; } .NetworKit_Page .Measure .Stat .Group .List .Entry[data-tooltip]:before { position: absolute; left: 0; top: -40px; background-color: #808080; color: #ffffff; height: 30px; line-height: 30px; border-radius: 5px; padding: 0 15px; content: attr(data-tooltip); white-space: nowrap; display: none; } .NetworKit_Page .Measure .Stat .Group .List .Entry[data-tooltip]:after { position: absolute; left: 15px; top: -10px; border-top: 7px solid #808080; border-left: 7px solid transparent; border-right: 7px solid transparent; content: \"\"; display: none; } .NetworKit_Page .Measure .Stat .Group .List .Entry[data-tooltip]:hover:after, .NetworKit_Page .Measure .Stat .Group .List .Entry[data-tooltip]:hover:before { display: block; } .NetworKit_Page .Measure .Stat .Group .List .Entry .MathValue { font-family: \"Courier New\", Courier, monospace; } .NetworKit_Page .Measure:after { content: \".\"; visibility: hidden; display: block; height: 0; clear: both; } .NetworKit_Page .PartitionPie { clear: both; } .NetworKit_Page .PartitionPie img { width: 600px; } #NetworKit_Overlay { left: 0px; top: 0px; display: none; position: absolute; width: 100%; height: 100%; background-color: rgba(0,0,0,0.6); z-index: 1000; } #NetworKit_Overlay_Title { position: absolute; color: white; transform: rotate(-90deg); width: 32em; height: 32em; padding-right: 0.5em; padding-top: 0.5em; text-align: right; font-size: 40px; } #NetworKit_Overlay .button { background: white; cursor: pointer; } #NetworKit_Overlay .button:before { size: 13px; display: inline-block; text-align: center; margin-top: 0.5em; margin-bottom: 0.5em; width: 1.5em; height: 1.5em; } #NetworKit_Overlay .icon-close:before { content: \"X\"; } #NetworKit_Overlay .icon-previous:before { content: \"P\"; } #NetworKit_Overlay .icon-next:before { content: \"N\"; } #NetworKit_Overlay .icon-save:before { content: \"S\"; } #NetworKit_Overlay_Toolbar_Top, #NetworKit_Overlay_Toolbar_Bottom { position: absolute; width: 40px; right: 13px; text-align: right; z-index: 1100; } #NetworKit_Overlay_Toolbar_Top { top: 0.5em; } #NetworKit_Overlay_Toolbar_Bottom { Bottom: 0.5em; } #NetworKit_Overlay_ImageContainer { position: absolute; top: 5%; left: 5%; height: 90%; width: 90%; background-repeat: no-repeat; background-position: center center; background-size: contain; } #NetworKit_Overlay_Image { height: 100%; width: 100%; background-repeat: no-repeat; background-position: center center; background-size: contain; }';\n",
       "\t\t\t\telement.setAttribute('id', 'NetworKit_style');\n",
       "\t\t\t\tdocument.head.appendChild(element);\n",
       "\t\t\t}\n",
       "\t\t\n",
       "\t\t\t\t\n",
       "\t\t\t{\n",
       "\t\t\t\tvar element = document.getElementById('NetworKit_Overlay');\n",
       "\t\t\t\tif (element) {\n",
       "\t\t\t\t\telement.parentNode.removeChild(element);\n",
       "\t\t\t\t}\n",
       "\t\t\t\telement = document.createElement('div');\n",
       "\t\t\t\telement.innerHTML = '<div id=\"NetworKit_Overlay_Toolbar_Top\"><div class=\"button icon-close\" id=\"NetworKit_Overlay_Close\" /></div><div id=\"NetworKit_Overlay_Title\" /> <div id=\"NetworKit_Overlay_ImageContainer\"> <div id=\"NetworKit_Overlay_Image\" /> </div> <div id=\"NetworKit_Overlay_Toolbar_Bottom\"> <div class=\"button icon-previous\" onclick=\"NetworKit_overlayImageShift(-1)\" /> <div class=\"button icon-next\" onclick=\"NetworKit_overlayImageShift(1)\" /> <a id=\"NetworKit_Overlay_Toolbar_Bottom_Save\"><div class=\"button icon-save\" /></a> </div>';\n",
       "\t\t\t\telement.setAttribute('id', 'NetworKit_Overlay');\n",
       "\t\t\t\tdocument.body.appendChild(element);\n",
       "\t\t\t\tdocument.getElementById('NetworKit_Overlay_Close').onclick = function (e) {\n",
       "\t\t\t\t\tdocument.getElementById('NetworKit_Overlay').style.display = 'none';\n",
       "\t\t\t\t}\n",
       "\t\t\t}\n",
       "\t\t\n",
       "\t\t\t-->\n",
       "\t\t\t</script>\n",
       "\t\t"
      ]
     },
     "metadata": {},
     "output_type": "display_data"
    }
   ],
   "source": [
    "import networkit as netKit\n",
    "import igraph as ig\n",
    "import numpy as np\n",
    "\n",
    "import matplotlib.pyplot as plt\n",
    "%matplotlib inline\n",
    "from mpl_settings_v3 import *"
   ]
  },
  {
   "cell_type": "code",
   "execution_count": 22,
   "metadata": {},
   "outputs": [],
   "source": [
    "def BtwU_attack_NK(g):\n",
    "    \n",
    "    order = []\n",
    "    N = g.numberOfNodes()\n",
    "    while N:\n",
    "        btw = netKit.centrality.Betweenness(g)\n",
    "        btw.run()\n",
    "        idx, b = btw.ranking()[0]\n",
    "        order.append((idx, b/2))\n",
    "        g.removeNode(idx)\n",
    "\n",
    "        N -= 1\n",
    "    return order\n",
    "\n",
    "def BtwU_attack_IG(g):\n",
    "    \n",
    "    order = []\n",
    "    N = g.vcount()\n",
    "    g.vs['oi'] = range(N)\n",
    "    while N:\n",
    "        \n",
    "        b_values = g.betweenness(directed=False)\n",
    "        idx = np.argmax(b_values)\n",
    "        b = b_values[idx]\n",
    "        \n",
    "        oi = g.vs[idx]['oi']\n",
    "        order.append((oi, b))\n",
    "        g.vs[idx].delete()\n",
    "        \n",
    "        N -= 1\n",
    "    return order"
   ]
  },
  {
   "cell_type": "code",
   "execution_count": 13,
   "metadata": {},
   "outputs": [],
   "source": [
    "np.savetxt(net_dir + 'BtwU/oi_list_nk.txt', nk_oi_list, fmt='%d')"
   ]
  },
  {
   "cell_type": "code",
   "execution_count": 27,
   "metadata": {},
   "outputs": [
    {
     "name": "stderr",
     "output_type": "stream",
     "text": [
      "/home/nahuel/anaconda3/envs/networks3/lib/python3.6/site-packages/networkit/graphio.py:117: UserWarning: Graph.setName is deprecated.\n",
      "  G.setName(os.path.basename(path).split(\".\")[0])\t# set name of graph to name of file\n"
     ]
    }
   ],
   "source": [
    "#net_dir = '../networks/Lattice/Lattice_param/Lattice_param_L16/Lattice_param_L16_00000/'\n",
    "#file_name = net_dir + 'Lattice_param_L16_00000.txt'\n",
    "\n",
    "net_dir = '../networks/DT/DT_param/DT_param_N256/DT_param_N256_00000/'\n",
    "file_name = net_dir + 'DT_param_N256_00000.txt'\n",
    "\n",
    "ig_oi_list = np.loadtxt(net_dir + 'BtwU/oi_list.txt', dtype='int')\n",
    "g = netKit.readGraph(file_name, fileformat=netKit.Format.EdgeListSpaceZero, directed=False)\n",
    "order_nk = BtwU_attack_NK(g)\n",
    "nk_oi_list = np.array([oi for (oi, b) in order_nk], dtype='int')\n",
    "\n",
    "h = ig.Graph().Read_Edgelist(file_name, directed=False)\n",
    "order_ig = BtwU_attack_IG(h)\n",
    "\n",
    "#(ig_oi_list - nk_oi_list).any()\n",
    "for i in range(N):\n",
    "    #if order_nk[i][0] != order_ig[i][0]:\n",
    "    if order_nk[i][0] != ig_oi_list[i]:\n",
    "        print(order_nk[i], order_ig[i], ig_oi_list[i])"
   ]
  },
  {
   "cell_type": "code",
   "execution_count": 3,
   "metadata": {},
   "outputs": [
    {
     "name": "stdout",
     "output_type": "stream",
     "text": [
      "256 480\n"
     ]
    },
    {
     "name": "stderr",
     "output_type": "stream",
     "text": [
      "/home/nahuel/anaconda3/envs/networks3/lib/python3.6/site-packages/networkit/graphio.py:117: UserWarning: Graph.setName is deprecated.\n",
      "  G.setName(os.path.basename(path).split(\".\")[0])\t# set name of graph to name of file\n"
     ]
    },
    {
     "data": {
      "text/plain": [
       "[(119, 5447.056151376218),\n",
       " (120, 5447.056151376217),\n",
       " (135, 5447.056151376216),\n",
       " (136, 5447.056151376216),\n",
       " (121, 5261.62272817256),\n",
       " (151, 5261.62272817256),\n",
       " (152, 5261.62272817256),\n",
       " (103, 5261.622728172559),\n",
       " (104, 5261.622728172559),\n",
       " (118, 5261.622728172559)]"
      ]
     },
     "execution_count": 3,
     "metadata": {},
     "output_type": "execute_result"
    }
   ],
   "source": [
    "#file_name = '../networks/ER/ER_k5.00/ER_k5.00_N250/ER_k5.00_N250_00000/ER_k5.00_N250_00000.txt'\n",
    "file_name = '../networks/Lattice/Lattice_param/Lattice_param_L16/Lattice_param_L16_00000/Lattice_param_L16_00000.txt'\n",
    "g = netKit.readGraph(file_name, fileformat=netKit.Format.EdgeListSpaceZero, directed=False)\n",
    "N = g.numberOfNodes()\n",
    "M = g.numberOfEdges()\n",
    "print(N, M)\n",
    "btw = netKit.centrality.Betweenness(g)\n",
    "btw.run()\n",
    "btw.ranking()[:10]"
   ]
  },
  {
   "cell_type": "code",
   "execution_count": 63,
   "metadata": {},
   "outputs": [
    {
     "name": "stdout",
     "output_type": "stream",
     "text": [
      "2.4 s ± 101 ms per loop (mean ± std. dev. of 7 runs, 1 loop each)\n"
     ]
    }
   ],
   "source": [
    "%timeit btw.run()"
   ]
  },
  {
   "cell_type": "code",
   "execution_count": 64,
   "metadata": {},
   "outputs": [
    {
     "data": {
      "text/plain": [
       "[(1260, 0.032570603999175426)]"
      ]
     },
     "execution_count": 64,
     "metadata": {},
     "output_type": "execute_result"
    }
   ],
   "source": [
    "netKit.setSeed(0, True)\n",
    "kadabra = netKit.centrality.KadabraBetweenness(g, k=1)\n",
    "kadabra.run()\n",
    "kadabra.ranking()"
   ]
  },
  {
   "cell_type": "code",
   "execution_count": 65,
   "metadata": {},
   "outputs": [
    {
     "name": "stdout",
     "output_type": "stream",
     "text": [
      "334 ms ± 15.3 ms per loop (mean ± std. dev. of 7 runs, 1 loop each)\n"
     ]
    }
   ],
   "source": [
    "%timeit kadabra.run()"
   ]
  },
  {
   "cell_type": "code",
   "execution_count": 58,
   "metadata": {},
   "outputs": [
    {
     "data": {
      "text/plain": [
       "[(966, 30222.195900585455),\n",
       " (1260, 29534.46246110253),\n",
       " (86, 29128.398308659212),\n",
       " (188, 23890.407234716113),\n",
       " (690, 22124.374598055296),\n",
       " (53, 20438.483102734906),\n",
       " (155, 18318.839805097294),\n",
       " (1658, 18125.54917894736),\n",
       " (551, 17930.418577512366),\n",
       " (680, 17204.846384522527)]"
      ]
     },
     "execution_count": 58,
     "metadata": {},
     "output_type": "execute_result"
    }
   ],
   "source": [
    "file_name = '../networks/ER/ER_k5.00/ER_k5.00_N2000/ER_k5.00_N2000_00000/ER_k5.00_N2000_00000.txt'\n",
    "ig_g = ig.Graph().Read_Edgelist(file_name, directed=False)\n",
    "ig_g.summary()\n",
    "sorted(enumerate(ig_g.betweenness()), key=lambda x: x[1], reverse=True)[:10]"
   ]
  },
  {
   "cell_type": "code",
   "execution_count": 71,
   "metadata": {},
   "outputs": [
    {
     "name": "stdout",
     "output_type": "stream",
     "text": [
      "618 ms ± 46 ms per loop (mean ± std. dev. of 7 runs, 1 loop each)\n"
     ]
    }
   ],
   "source": [
    "tt = %timeit -o ig_g.betweenness()"
   ]
  },
  {
   "cell_type": "code",
   "execution_count": 75,
   "metadata": {},
   "outputs": [
    {
     "data": {
      "text/plain": [
       "0.04600210778929"
      ]
     },
     "execution_count": 75,
     "metadata": {},
     "output_type": "execute_result"
    }
   ],
   "source": []
  },
  {
   "cell_type": "code",
   "execution_count": 96,
   "metadata": {},
   "outputs": [
    {
     "name": "stdout",
     "output_type": "stream",
     "text": [
      "250\n",
      "38.4 ms ± 5.21 ms per loop (mean ± std. dev. of 7 runs, 10 loops each)\n",
      "79.4 ms ± 9.28 ms per loop (mean ± std. dev. of 7 runs, 10 loops each)\n",
      "6.99 ms ± 391 µs per loop (mean ± std. dev. of 7 runs, 10 loops each)\n",
      "60 60 60\n",
      "500\n",
      "122 ms ± 11.4 ms per loop (mean ± std. dev. of 7 runs, 10 loops each)\n",
      "93.4 ms ± 14.6 ms per loop (mean ± std. dev. of 7 runs, 10 loops each)\n",
      "27.8 ms ± 707 µs per loop (mean ± std. dev. of 7 runs, 10 loops each)\n",
      "51 51 51\n",
      "1000\n",
      "458 ms ± 31.4 ms per loop (mean ± std. dev. of 7 runs, 1 loop each)\n",
      "143 ms ± 4.52 ms per loop (mean ± std. dev. of 7 runs, 10 loops each)\n",
      "123 ms ± 8.14 ms per loop (mean ± std. dev. of 7 runs, 1 loop each)\n",
      "961 961 961\n",
      "2000\n",
      "2.03 s ± 209 ms per loop (mean ± std. dev. of 7 runs, 1 loop each)\n",
      "267 ms ± 23.2 ms per loop (mean ± std. dev. of 7 runs, 1 loop each)\n",
      "499 ms ± 12.1 ms per loop (mean ± std. dev. of 7 runs, 1 loop each)\n",
      "966 966 966\n",
      "4000\n",
      "7.96 s ± 442 ms per loop (mean ± std. dev. of 7 runs, 1 loop each)\n",
      "460 ms ± 59.9 ms per loop (mean ± std. dev. of 7 runs, 1 loop each)\n",
      "2.25 s ± 24.8 ms per loop (mean ± std. dev. of 7 runs, 1 loop each)\n",
      "2343 2343 2248\n",
      "8000\n",
      "36.3 s ± 653 ms per loop (mean ± std. dev. of 7 runs, 1 loop each)\n",
      "897 ms ± 75.2 ms per loop (mean ± std. dev. of 7 runs, 1 loop each)\n",
      "11.5 s ± 468 ms per loop (mean ± std. dev. of 7 runs, 1 loop each)\n",
      "7575 7575 7575\n"
     ]
    }
   ],
   "source": [
    "mean_times = []\n",
    "stdev_times = []\n",
    "N_values = [250, 500, 1000, 2000, 4000, 8000]\n",
    "for N in N_values:\n",
    "    print(N)\n",
    "    file_name = '../networks/ER/ER_k5.00/ER_k5.00_N{N}/ER_k5.00_N{N}_00000/ER_k5.00_N{N}_00000.txt'.format(N=N)\n",
    "    \n",
    "    g = netKit.readGraph(file_name, fileformat=netKit.Format.EdgeListSpaceZero, directed=False)\n",
    "    btw = netKit.centrality.Betweenness(g)\n",
    "    netKit_t = %timeit -o btw.run()\n",
    "    \n",
    "    ig_g = ig.Graph().Read_Edgelist(file_name, directed=False)\n",
    "    ig_t = %timeit -o ig_g.betweenness()\n",
    "    \n",
    "    kadabra = netKit.centrality.KadabraBetweenness(g, k=1)\n",
    "    kadabra_t = %timeit -o kadabra.run()\n",
    "    \n",
    "    ig_maxBtw = sorted(enumerate(ig_g.betweenness()), key=lambda x: x[1], reverse=True)[0][0]\n",
    "    netKit_maxBtw = btw.ranking()[0][0]\n",
    "    kadabra_maxBtw = kadabra.ranking()[0][0]\n",
    "    print(ig_maxBtw, netKit_maxBtw, kadabra_maxBtw)\n",
    "    \n",
    "    mean_times.append([netKit_t.average, ig_t.average, kadabra_t.average])\n",
    "    stdev_times.append([netKit_t.stdev, ig_t.stdev, kadabra_t.stdev])\n",
    "    \n",
    "mean_times = np.array(mean_times)\n",
    "stdev_times = np.array(stdev_times)"
   ]
  },
  {
   "cell_type": "code",
   "execution_count": 98,
   "metadata": {},
   "outputs": [
    {
     "data": {
      "image/png": "[encoded data removed]",
      "text/plain": [
       "<Figure size 576x432 with 1 Axes>"
      ]
     },
     "metadata": {
      "needs_background": "light"
     },
     "output_type": "display_data"
    }
   ],
   "source": [
    "fig, ax = plt.subplots(figsize=(8, 6))\n",
    "ax.set_xscale('log')\n",
    "ax.set_yscale('log')\n",
    "ax.plot(N_values, mean_times, '-o')\n",
    "ax.legend(labels=['nK', 'iG', 'Kad'])\n",
    "plt.show()"
   ]
  },
  {
   "cell_type": "code",
   "execution_count": 4,
   "metadata": {},
   "outputs": [],
   "source": [
    "def updated_attack_netKit(graph, attack, out=None, random_state=0):\n",
    "    \n",
    "    ## Set random seed for reproducibility\n",
    "    netKit.setSeed(0, True)\n",
    "\n",
    "    ## Create a copy of graph so as not to modify the original\n",
    "    g = graph.copy()\n",
    "\n",
    "    ## Save original index as a vertex property\n",
    "    N0 = g.vcount()\n",
    "    g.vs['name'] = range(N0)\n",
    "    \n",
    "    ## List with the node original indices in removal order\n",
    "    original_indices = []\n",
    "\n",
    "    j = 0\n",
    "    if out:\n",
    "        if os.path.isfile(out) and os.path.getsize(out) > 0: \n",
    "            oi_values = np.loadtxt(out, dtype='int', comments='\\x00')\n",
    "            g.delete_vertices(oi_values)\n",
    "            oi_values = np.array(oi_values) ## In case oi_values is one single integer\n",
    "            j += len(oi_values)\n",
    "            np.savetxt(out, oi_values, fmt='%d')\n",
    "\n",
    "        f = open(out, 'a+')\n",
    "\n",
    "    while j < N0:\n",
    "\n",
    "        ## Identify node to be removed\n",
    "        kadabra = netKit.centrality.KadabraBetweenness(g, k=1)\n",
    "        kadabra.run()\n",
    "        idx = kadabra.ranking()[0]\n",
    "\n",
    "        ## Add index to list\n",
    "        original_idx = g.vs[idx]['name']\n",
    "        original_indices.append(original_idx)\n",
    "\n",
    "        ## Remove node\n",
    "        g.vs[idx].delete()     \n",
    "\n",
    "        j += 1\n",
    "            \n",
    "        if out:\n",
    "            f.write('{:d}\\n'.format(original_idx))\n",
    "            f.flush()\n",
    "        \n",
    "    if out:\n",
    "        f.close()\n",
    "\n",
    "    return original_indices\n",
    "\n",
    "def updated_attack(graph, attack, out=None, random_state=0):\n",
    "    \n",
    "    ## Set random seed for reproducibility\n",
    "    np.random.seed(random_state)\n",
    "\n",
    "    ## Create a copy of graph so as not to modify the original\n",
    "    g = graph.copy()\n",
    "\n",
    "    ## Save original index as a vertex property\n",
    "    N0 = g.vcount()\n",
    "    g.vs['name'] = range(N0)\n",
    "    \n",
    "    ## List with the node original indices in removal order\n",
    "    original_indices = []\n",
    "\n",
    "    j = 0\n",
    "    if out:\n",
    "        if os.path.isfile(out) and os.path.getsize(out) > 0: \n",
    "            oi_values = np.loadtxt(out, dtype='int', comments='\\x00')\n",
    "            g.delete_vertices(oi_values)\n",
    "            oi_values = np.array(oi_values) ## In case oi_values is one single integer\n",
    "            j += len(oi_values)\n",
    "            np.savetxt(out, oi_values, fmt='%d')\n",
    "\n",
    "    while j < N0:\n",
    "\n",
    "        ## Identify node to be removed\n",
    "        if attack == 'BtwU':\n",
    "            c_values = g.betweenness(directed=False, nobigint=False)\n",
    "        elif attack == 'DegU':\n",
    "            c_values = g.degree()\n",
    "        idx = np.argmax(c_values)\n",
    "\n",
    "        ## Add index to list\n",
    "        original_idx = g.vs[idx]['name']\n",
    "        original_indices.append([original_idx, c_values[idx]])\n",
    "\n",
    "        ## Remove node\n",
    "        g.vs[idx].delete()     \n",
    "\n",
    "        j += 1\n",
    "        \n",
    "    return original_indices"
   ]
  },
  {
   "cell_type": "code",
   "execution_count": 2,
   "metadata": {},
   "outputs": [],
   "source": [
    "file_name = '../networks/ER/ER_k5.00/ER_k5.00_N250/ER_k5.00_N250_00000/ER_k5.00_N250_00000.txt'"
   ]
  },
  {
   "cell_type": "code",
   "execution_count": 5,
   "metadata": {},
   "outputs": [
    {
     "data": {
      "text/plain": [
       "[[60, 1286.5421859901087],\n",
       " [169, 1052.8678094755335],\n",
       " [30, 859.8972852150715],\n",
       " [226, 931.3176781674011],\n",
       " [71, 881.8472056980787],\n",
       " [55, 894.7322790082337],\n",
       " [147, 875.0861532717353],\n",
       " [89, 903.3500279165684],\n",
       " [102, 921.2496377712639],\n",
       " [152, 928.6097604507205]]"
      ]
     },
     "execution_count": 5,
     "metadata": {},
     "output_type": "execute_result"
    }
   ],
   "source": [
    "ig_g = ig.Graph().Read_Edgelist(file_name, directed=False)\n",
    "oi_list_ig = updated_attack(ig_g, 'BtwU')\n",
    "oi_list_ig[:10]"
   ]
  },
  {
   "cell_type": "code",
   "execution_count": null,
   "metadata": {},
   "outputs": [],
   "source": [
    "g = netKit.readGraph(file_name, fileformat=netKit.Format.EdgeListSpaceZero, directed=False)\n",
    "btw = netKit.centrality.Betweenness(g)\n",
    "btw.run()\n",
    "btw.scores()"
   ]
  },
  {
   "cell_type": "code",
   "execution_count": 14,
   "metadata": {},
   "outputs": [
    {
     "name": "stdout",
     "output_type": "stream",
     "text": [
      "250 60 169 2573.084372744835 2573.084372744835 True [(60, 2573.084372744835), (147, 1986.2455521096158)]\n"
     ]
    },
    {
     "name": "stdin",
     "output_type": "stream",
     "text": [
      " \n"
     ]
    },
    {
     "name": "stdout",
     "output_type": "stream",
     "text": [
      "249 169 100 2105.735619714369 2105.735619714369 True [(169, 2105.735619714369), (30, 1699.2752025528048)]\n"
     ]
    },
    {
     "name": "stdin",
     "output_type": "stream",
     "text": [
      " \n"
     ]
    },
    {
     "name": "stdout",
     "output_type": "stream",
     "text": [
      "248 100 226 1640.7082970018505 1640.7082970018505 True [(30, 1719.794571065437), (71, 1709.0575624859002)]\n"
     ]
    },
    {
     "name": "stdin",
     "output_type": "stream",
     "text": [
      " \n"
     ]
    },
    {
     "name": "stdout",
     "output_type": "stream",
     "text": [
      "247 30 71 1774.7139206842533 1774.7139206842533 True [(30, 1774.7139206842533), (71, 1739.752972313794)]\n"
     ]
    },
    {
     "name": "stdin",
     "output_type": "stream",
     "text": [
      " \n"
     ]
    },
    {
     "name": "stdout",
     "output_type": "stream",
     "text": [
      "246 71 89 1772.5939665651092 1772.5939665651092 True [(71, 1772.5939665651092), (55, 1762.7968240664727)]\n"
     ]
    },
    {
     "name": "stdin",
     "output_type": "stream",
     "text": [
      " \n"
     ]
    },
    {
     "name": "stdout",
     "output_type": "stream",
     "text": [
      "245 152 91 1696.1397822164827 1696.1397822164827 True [(55, 1800.8355996798846), (152, 1696.1397822164827)]\n"
     ]
    },
    {
     "ename": "KeyboardInterrupt",
     "evalue": "",
     "output_type": "error",
     "traceback": [
      "\u001b[0;31m---------------------------------------------------------------------------\u001b[0m",
      "\u001b[0;31mKeyboardInterrupt\u001b[0m                         Traceback (most recent call last)",
      "\u001b[0;32m/media/nahuel/datos/d/anaconda3/envs/networks3/lib/python3.7/site-packages/ipykernel/kernelbase.py\u001b[0m in \u001b[0;36m_input_request\u001b[0;34m(self, prompt, ident, parent, password)\u001b[0m\n\u001b[1;32m    877\u001b[0m             \u001b[0;32mtry\u001b[0m\u001b[0;34m:\u001b[0m\u001b[0;34m\u001b[0m\u001b[0;34m\u001b[0m\u001b[0m\n\u001b[0;32m--> 878\u001b[0;31m                 \u001b[0mident\u001b[0m\u001b[0;34m,\u001b[0m \u001b[0mreply\u001b[0m \u001b[0;34m=\u001b[0m \u001b[0mself\u001b[0m\u001b[0;34m.\u001b[0m\u001b[0msession\u001b[0m\u001b[0;34m.\u001b[0m\u001b[0mrecv\u001b[0m\u001b[0;34m(\u001b[0m\u001b[0mself\u001b[0m\u001b[0;34m.\u001b[0m\u001b[0mstdin_socket\u001b[0m\u001b[0;34m,\u001b[0m \u001b[0;36m0\u001b[0m\u001b[0;34m)\u001b[0m\u001b[0;34m\u001b[0m\u001b[0;34m\u001b[0m\u001b[0m\n\u001b[0m\u001b[1;32m    879\u001b[0m             \u001b[0;32mexcept\u001b[0m \u001b[0mException\u001b[0m\u001b[0;34m:\u001b[0m\u001b[0;34m\u001b[0m\u001b[0;34m\u001b[0m\u001b[0m\n",
      "\u001b[0;32m/media/nahuel/datos/d/anaconda3/envs/networks3/lib/python3.7/site-packages/jupyter_client/session.py\u001b[0m in \u001b[0;36mrecv\u001b[0;34m(self, socket, mode, content, copy)\u001b[0m\n\u001b[1;32m    802\u001b[0m         \u001b[0;32mtry\u001b[0m\u001b[0;34m:\u001b[0m\u001b[0;34m\u001b[0m\u001b[0;34m\u001b[0m\u001b[0m\n\u001b[0;32m--> 803\u001b[0;31m             \u001b[0mmsg_list\u001b[0m \u001b[0;34m=\u001b[0m \u001b[0msocket\u001b[0m\u001b[0;34m.\u001b[0m\u001b[0mrecv_multipart\u001b[0m\u001b[0;34m(\u001b[0m\u001b[0mmode\u001b[0m\u001b[0;34m,\u001b[0m \u001b[0mcopy\u001b[0m\u001b[0;34m=\u001b[0m\u001b[0mcopy\u001b[0m\u001b[0;34m)\u001b[0m\u001b[0;34m\u001b[0m\u001b[0;34m\u001b[0m\u001b[0m\n\u001b[0m\u001b[1;32m    804\u001b[0m         \u001b[0;32mexcept\u001b[0m \u001b[0mzmq\u001b[0m\u001b[0;34m.\u001b[0m\u001b[0mZMQError\u001b[0m \u001b[0;32mas\u001b[0m \u001b[0me\u001b[0m\u001b[0;34m:\u001b[0m\u001b[0;34m\u001b[0m\u001b[0;34m\u001b[0m\u001b[0m\n",
      "\u001b[0;32m/media/nahuel/datos/d/anaconda3/envs/networks3/lib/python3.7/site-packages/zmq/sugar/socket.py\u001b[0m in \u001b[0;36mrecv_multipart\u001b[0;34m(self, flags, copy, track)\u001b[0m\n\u001b[1;32m    469\u001b[0m         \"\"\"\n\u001b[0;32m--> 470\u001b[0;31m         \u001b[0mparts\u001b[0m \u001b[0;34m=\u001b[0m \u001b[0;34m[\u001b[0m\u001b[0mself\u001b[0m\u001b[0;34m.\u001b[0m\u001b[0mrecv\u001b[0m\u001b[0;34m(\u001b[0m\u001b[0mflags\u001b[0m\u001b[0;34m,\u001b[0m \u001b[0mcopy\u001b[0m\u001b[0;34m=\u001b[0m\u001b[0mcopy\u001b[0m\u001b[0;34m,\u001b[0m \u001b[0mtrack\u001b[0m\u001b[0;34m=\u001b[0m\u001b[0mtrack\u001b[0m\u001b[0;34m)\u001b[0m\u001b[0;34m]\u001b[0m\u001b[0;34m\u001b[0m\u001b[0;34m\u001b[0m\u001b[0m\n\u001b[0m\u001b[1;32m    471\u001b[0m         \u001b[0;31m# have first part already, only loop while more to receive\u001b[0m\u001b[0;34m\u001b[0m\u001b[0;34m\u001b[0m\u001b[0;34m\u001b[0m\u001b[0m\n",
      "\u001b[0;32mzmq/backend/cython/socket.pyx\u001b[0m in \u001b[0;36mzmq.backend.cython.socket.Socket.recv\u001b[0;34m()\u001b[0m\n",
      "\u001b[0;32mzmq/backend/cython/socket.pyx\u001b[0m in \u001b[0;36mzmq.backend.cython.socket.Socket.recv\u001b[0;34m()\u001b[0m\n",
      "\u001b[0;32mzmq/backend/cython/socket.pyx\u001b[0m in \u001b[0;36mzmq.backend.cython.socket._recv_copy\u001b[0;34m()\u001b[0m\n",
      "\u001b[0;32m/media/nahuel/datos/d/anaconda3/envs/networks3/lib/python3.7/site-packages/zmq/backend/cython/checkrc.pxd\u001b[0m in \u001b[0;36mzmq.backend.cython.checkrc._check_rc\u001b[0;34m()\u001b[0m\n",
      "\u001b[0;31mKeyboardInterrupt\u001b[0m: ",
      "\nDuring handling of the above exception, another exception occurred:\n",
      "\u001b[0;31mKeyboardInterrupt\u001b[0m                         Traceback (most recent call last)",
      "\u001b[0;32m<ipython-input-14-270976feabf8>\u001b[0m in \u001b[0;36m<module>\u001b[0;34m\u001b[0m\n\u001b[1;32m     15\u001b[0m     \u001b[0moi_list_netKit\u001b[0m\u001b[0;34m.\u001b[0m\u001b[0mappend\u001b[0m\u001b[0;34m(\u001b[0m\u001b[0mtopNodeKad\u001b[0m\u001b[0;34m)\u001b[0m\u001b[0;34m\u001b[0m\u001b[0;34m\u001b[0m\u001b[0m\n\u001b[1;32m     16\u001b[0m \u001b[0;34m\u001b[0m\u001b[0m\n\u001b[0;32m---> 17\u001b[0;31m     \u001b[0minput\u001b[0m\u001b[0;34m(\u001b[0m\u001b[0;34m)\u001b[0m\u001b[0;34m\u001b[0m\u001b[0;34m\u001b[0m\u001b[0m\n\u001b[0m\u001b[1;32m     18\u001b[0m \u001b[0;34m\u001b[0m\u001b[0m\n\u001b[1;32m     19\u001b[0m \u001b[0moi_list_netKit\u001b[0m\u001b[0;34m[\u001b[0m\u001b[0;34m:\u001b[0m\u001b[0;36m10\u001b[0m\u001b[0;34m]\u001b[0m\u001b[0;34m\u001b[0m\u001b[0;34m\u001b[0m\u001b[0m\n",
      "\u001b[0;32m/media/nahuel/datos/d/anaconda3/envs/networks3/lib/python3.7/site-packages/ipykernel/kernelbase.py\u001b[0m in \u001b[0;36mraw_input\u001b[0;34m(self, prompt)\u001b[0m\n\u001b[1;32m    851\u001b[0m             \u001b[0mself\u001b[0m\u001b[0;34m.\u001b[0m\u001b[0m_parent_ident\u001b[0m\u001b[0;34m,\u001b[0m\u001b[0;34m\u001b[0m\u001b[0;34m\u001b[0m\u001b[0m\n\u001b[1;32m    852\u001b[0m             \u001b[0mself\u001b[0m\u001b[0;34m.\u001b[0m\u001b[0m_parent_header\u001b[0m\u001b[0;34m,\u001b[0m\u001b[0;34m\u001b[0m\u001b[0;34m\u001b[0m\u001b[0m\n\u001b[0;32m--> 853\u001b[0;31m             \u001b[0mpassword\u001b[0m\u001b[0;34m=\u001b[0m\u001b[0;32mFalse\u001b[0m\u001b[0;34m,\u001b[0m\u001b[0;34m\u001b[0m\u001b[0;34m\u001b[0m\u001b[0m\n\u001b[0m\u001b[1;32m    854\u001b[0m         )\n\u001b[1;32m    855\u001b[0m \u001b[0;34m\u001b[0m\u001b[0m\n",
      "\u001b[0;32m/media/nahuel/datos/d/anaconda3/envs/networks3/lib/python3.7/site-packages/ipykernel/kernelbase.py\u001b[0m in \u001b[0;36m_input_request\u001b[0;34m(self, prompt, ident, parent, password)\u001b[0m\n\u001b[1;32m    881\u001b[0m             \u001b[0;32mexcept\u001b[0m \u001b[0mKeyboardInterrupt\u001b[0m\u001b[0;34m:\u001b[0m\u001b[0;34m\u001b[0m\u001b[0;34m\u001b[0m\u001b[0m\n\u001b[1;32m    882\u001b[0m                 \u001b[0;31m# re-raise KeyboardInterrupt, to truncate traceback\u001b[0m\u001b[0;34m\u001b[0m\u001b[0;34m\u001b[0m\u001b[0;34m\u001b[0m\u001b[0m\n\u001b[0;32m--> 883\u001b[0;31m                 \u001b[0;32mraise\u001b[0m \u001b[0mKeyboardInterrupt\u001b[0m\u001b[0;34m\u001b[0m\u001b[0;34m\u001b[0m\u001b[0m\n\u001b[0m\u001b[1;32m    884\u001b[0m             \u001b[0;32melse\u001b[0m\u001b[0;34m:\u001b[0m\u001b[0;34m\u001b[0m\u001b[0;34m\u001b[0m\u001b[0m\n\u001b[1;32m    885\u001b[0m                 \u001b[0;32mbreak\u001b[0m\u001b[0;34m\u001b[0m\u001b[0;34m\u001b[0m\u001b[0m\n",
      "\u001b[0;31mKeyboardInterrupt\u001b[0m: "
     ]
    }
   ],
   "source": [
    "g = netKit.readGraph(file_name, fileformat=netKit.Format.EdgeListSpaceZero, directed=False)\n",
    "oi_list_netKit = []\n",
    "for i in range(250):\n",
    "    \n",
    "    netKit.setSeed(0, True)\n",
    "    btw = netKit.centrality.Betweenness(g)\n",
    "    btw.run()\n",
    "\n",
    "    kadabra = netKit.centrality.KadabraBetweenness(g, k=2)\n",
    "    kadabra.run()\n",
    "    topNodeKad = kadabra.ranking()[0][0]\n",
    "    secNodeKad = kadabra.ranking()[1][0]\n",
    "    print(g.numberOfNodes(), topNodeKad, secNodeKad, btw.scores()[topNodeKad],btw.scores()[topNodeKad],  topNodeKad in g.nodes(), btw.ranking()[0:2])\n",
    "    g.removeNode(topNodeKad)\n",
    "    oi_list_netKit.append(topNodeKad)\n",
    "    \n",
    "    input()\n",
    "    \n",
    "oi_list_netKit[:10]"
   ]
  },
  {
   "cell_type": "code",
   "execution_count": null,
   "metadata": {},
   "outputs": [],
   "source": [
    "for i in range(250):\n",
    "    if oi_list_ig[i] != oi_list_netKit[i]:\n",
    "        print(i, oi_list_ig[i], oi_list_netKit[i])"
   ]
  },
  {
   "cell_type": "code",
   "execution_count": 17,
   "metadata": {},
   "outputs": [
    {
     "data": {
      "text/plain": [
       "'5.0.1'"
      ]
     },
     "execution_count": 17,
     "metadata": {},
     "output_type": "execute_result"
    }
   ],
   "source": [
    "netKit.__version__"
   ]
  },
  {
   "cell_type": "code",
   "execution_count": 28,
   "metadata": {},
   "outputs": [
    {
     "data": {
      "text/plain": [
       "True"
      ]
     },
     "execution_count": 28,
     "metadata": {},
     "output_type": "execute_result"
    }
   ],
   "source": [
    "isinstance(h, ig.Graph)"
   ]
  },
  {
   "cell_type": "code",
   "execution_count": null,
   "metadata": {},
   "outputs": [],
   "source": []
  }
 ],
 "metadata": {
  "kernelspec": {
   "display_name": "Python [conda env:networks3]",
   "language": "python",
   "name": "conda-env-networks3-py"
  },
  "language_info": {
   "codemirror_mode": {
    "name": "ipython",
    "version": 3
   },
   "file_extension": ".py",
   "mimetype": "text/x-python",
   "name": "python",
   "nbconvert_exporter": "python",
   "pygments_lexer": "ipython3",
   "version": "3.6.4"
  }
 },
 "nbformat": 4,
 "nbformat_minor": 2
}
