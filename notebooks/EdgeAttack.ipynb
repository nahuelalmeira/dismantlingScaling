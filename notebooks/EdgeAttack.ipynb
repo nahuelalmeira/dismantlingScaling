{
 "cells": [
  {
   "cell_type": "code",
   "execution_count": 61,
   "id": "structural-granny",
   "metadata": {},
   "outputs": [],
   "source": [
    "import igraph as ig\n",
    "import numpy as np\n",
    "import pandas as pd\n",
    "import matplotlib.pyplot as plt\n",
    "import networkx as nx\n",
    "\n",
    "import sys\n",
    "sys.path.append('../python')\n",
    "from planar import create_dt_edgelist, create_points\n",
    "\n",
    "%matplotlib inline"
   ]
  },
  {
   "cell_type": "code",
   "execution_count": 132,
   "id": "million-aquarium",
   "metadata": {},
   "outputs": [
    {
     "name": "stdout",
     "output_type": "stream",
     "text": [
      "10\n",
      "9\n",
      "8\n",
      "7\n",
      "6\n",
      "5\n",
      "4\n",
      "3\n",
      "2\n",
      "1\n",
      "0\n"
     ]
    }
   ],
   "source": [
    "def select_edge(g, strategy='random'):\n",
    "    m = nx.number_of_edges(g)\n",
    "   \n",
    "    if strategy == 'random':\n",
    "        idx = np.random.randint(m)\n",
    "    \n",
    "    if 'degree' in strategy:\n",
    "        c_values = []\n",
    "        for e in g.edges():\n",
    "            kv, kw = g.degree(e[0]), g.degree(e[1])\n",
    "            if 'product' in strategy:\n",
    "                c_value = kv*kw\n",
    "            elif 'sum' in strategy:\n",
    "                c_value = kv + kw\n",
    "            elif 'max' in strategy:\n",
    "                c_value = max((kv, kw))\n",
    "            c_values.append(c_value)\n",
    "        idx = np.argmax(c_values)\n",
    "        #idx = np.argmin(c_values)\n",
    "        \n",
    "    edge = list(g.edges())[idx]\n",
    "    return edge\n",
    "\n",
    "def compute_ngcc(g):\n",
    "    ngcc = max(len(c) for c in nx.connected_components(g))\n",
    "    return ngcc\n",
    "\n",
    "k = 3\n",
    "N = 1024\n",
    "M = int(k*N)\n",
    "g = nx.gnm_random_graph(N, M)\n",
    "\n",
    "points = create_points(N, random_seed=0)\n",
    "edges = create_dt_edgelist(points)\n",
    "g = nx.Graph()\n",
    "g.add_edges_from(edges)\n",
    "M = g.number_of_edges()\n",
    "\n",
    "#strategy = 'random'\n",
    "strategy = 'degree product'\n",
    "#strategy = 'degree sum'\n",
    "#strategy = 'degree max'\n",
    "\n",
    "\n",
    "data = {\n",
    "    'initial': [],\n",
    "    'updated': []\n",
    "}\n",
    "\n",
    "l = 10\n",
    "for i in range(M):\n",
    "    if i % (M//10) == 0:\n",
    "        print(l)\n",
    "        l -= 1\n",
    "    ngcc = compute_ngcc(g)\n",
    "    edge = select_edge(g, strategy=strategy)    \n",
    "    g.remove_edge(*edge)\n",
    "    data['updated'].append([i/M, ngcc/N])"
   ]
  },
  {
   "cell_type": "code",
   "execution_count": 135,
   "id": "aquatic-mambo",
   "metadata": {},
   "outputs": [
    {
     "name": "stdout",
     "output_type": "stream",
     "text": [
      "10\n",
      "9\n",
      "8\n",
      "7\n",
      "6\n",
      "5\n",
      "4\n",
      "3\n",
      "2\n",
      "1\n",
      "0\n"
     ]
    }
   ],
   "source": [
    "def select_edges(g, strategy='random'):  \n",
    "    if 'degree' in strategy:\n",
    "        if 'product' in strategy:\n",
    "            c_values = [g.degree(e[0])*g.degree(e[1]) for e in g.edges()]\n",
    "    edges = list(g.edges())   \n",
    "    #return c_values\n",
    "    return [edges[i] for i in np.argsort(c_values)][::-1]\n",
    "\n",
    "strategy = 'degree product'\n",
    "\n",
    "N = 1024\n",
    "points = create_points(N, random_seed=0)\n",
    "edges = create_dt_edgelist(points)\n",
    "g = nx.Graph()\n",
    "g.add_edges_from(edges)\n",
    "M = g.number_of_edges()\n",
    "\n",
    "#k = 3\n",
    "#N = 1024\n",
    "#M = int(k*N)\n",
    "#g = nx.gnm_random_graph(N, M)\n",
    "\n",
    "data['initial'] = []   \n",
    "edges = select_edges(g, strategy=strategy)    \n",
    "\n",
    "l = 10\n",
    "for i, edge in enumerate(edges):\n",
    "    if i % (M//10) == 0:\n",
    "        print(l)\n",
    "        l -= 1\n",
    "    ngcc = compute_ngcc(g)    \n",
    "    g.remove_edge(*edge)\n",
    "    data['initial'].append([i/M, ngcc/N])"
   ]
  },
  {
   "cell_type": "code",
   "execution_count": 136,
   "id": "arabic-asset",
   "metadata": {},
   "outputs": [
    {
     "data": {
      "image/png": "[encoded data removed]",
      "text/plain": [
       "<Figure size 576x432 with 1 Axes>"
      ]
     },
     "metadata": {
      "needs_background": "light"
     },
     "output_type": "display_data"
    }
   ],
   "source": [
    "fig, ax = plt.subplots(figsize=(8,6))\n",
    "for attack in ['initial', 'updated']:\n",
    "    df = pd.DataFrame(data[attack], columns=['f', 'Sgcc'])\n",
    "    df.plot(x='f', y='Sgcc', ax=ax, label=attack)"
   ]
  },
  {
   "cell_type": "code",
   "execution_count": null,
   "id": "serial-directory",
   "metadata": {},
   "outputs": [],
   "source": []
  }
 ],
 "metadata": {
  "kernelspec": {
   "display_name": "Python [conda env:networks] *",
   "language": "python",
   "name": "conda-env-networks-py"
  },
  "language_info": {
   "codemirror_mode": {
    "name": "ipython",
    "version": 3
   },
   "file_extension": ".py",
   "mimetype": "text/x-python",
   "name": "python",
   "nbconvert_exporter": "python",
   "pygments_lexer": "ipython3",
   "version": "3.8.8"
  }
 },
 "nbformat": 4,
 "nbformat_minor": 5
}
