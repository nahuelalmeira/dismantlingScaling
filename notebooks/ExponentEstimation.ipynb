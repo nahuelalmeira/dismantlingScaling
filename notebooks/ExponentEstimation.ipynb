{
 "cells": [
  {
   "cell_type": "code",
   "execution_count": 26,
   "id": "forbidden-irish",
   "metadata": {},
   "outputs": [],
   "source": [
    "import os\n",
    "import sys\n",
    "import pickle\n",
    "import numpy as np\n",
    "import pandas as pd\n",
    "import igraph as ig\n",
    "import matplotlib as mpl\n",
    "import matplotlib.pyplot as plt\n",
    "import seaborn as sns\n",
    "from collections import namedtuple, defaultdict\n",
    "\n",
    "from robustness import logger\n",
    "logger.setLevel('INFO')\n",
    "\n",
    "from robustness import NETWORKS_DIR\n",
    "from robustness.mpl_settings_v3 import *\n",
    "from robustness.planar import create_proximity_graph\n",
    "from robustness.auxiliary import (\n",
    "    getLinearReg, \n",
    "    get_base_network_name, \n",
    "    powerlaw, \n",
    "    load_delta_data, \n",
    "    read_data_file\n",
    ")\n",
    "from robustness.plot_auxiliary import (\n",
    "    letters,\n",
    "    attack_dict,\n",
    "    fig_dir, \n",
    "    load_delta,\n",
    "    load_deltas,\n",
    "    load_dataframe, \n",
    "    get_critical_measures,\n",
    "    getPeaks,\n",
    "    compute_fc_v2,\n",
    "    get_rc_values,\n",
    "    get_l_cutoff,\n",
    "    load_comp_sizes_data\n",
    ")\n",
    "\n",
    "%matplotlib inline\n",
    "\n",
    "net_type = 'DT'\n",
    "param = 'param'\n",
    "\n",
    "net_dir = os.path.join('..', 'networks', net_type)\n",
    "\n",
    "marker_dict = {'num': 'o', 'Nsec': 's', 'varSgcc': '^', 'Sgcc': '*'}\n",
    "color_dict = {'num': 'C0', 'Nsec': 'C1', 'varSgcc': 'C2', 'Sgcc': 'C3'}\n",
    "linestyle_dict = {'num': '--', 'Nsec': '-.', 'varSgcc': ':', 'Sgcc': ':'}\n",
    "measures_dict = {'num': r'$M_2$', 'meanS': r'$\\langle s \\rangle$', 'Nsec': r'$S_2 L^2$', 'varSgcc': r'$\\chi$', 'Sgcc': r'$N_1$'}\n",
    "line_colors = {'num': 'k', 'Nsec': 'grey', 'varSgcc': 'brown', 'Sgcc': 'C8'}"
   ]
  },
  {
   "cell_type": "code",
   "execution_count": 4,
   "id": "representative-comparison",
   "metadata": {},
   "outputs": [],
   "source": [
    "def load_dataframes(net_type, param, sizes, attack, min_nseeds=None, nseeds=None):\n",
    "    dfs = {}\n",
    "    for N in sizes:\n",
    "        try:\n",
    "            dfs[N] = load_dataframe(\n",
    "                net_type, N, param, attack, \n",
    "                min_nseeds=min_nseeds, nseeds=nseeds\n",
    "            )\n",
    "        except FileNotFoundError:\n",
    "            continue\n",
    "    return dfs"
   ]
  },
  {
   "cell_type": "code",
   "execution_count": 51,
   "id": "wrong-venezuela",
   "metadata": {},
   "outputs": [],
   "source": [
    "gamma_measures = ['num', 'meanS']\n",
    "beta_measures = ['Nsec']\n",
    "measures = gamma_measures + beta_measures\n",
    "attacks = [\n",
    "    'Btw_cutoff2'\n",
    "]\n",
    "navg = 5\n",
    "nseeds = 10000\n",
    "min_nseeds = None\n",
    "sizes = [\n",
    "    256, 512, \n",
    "    1024, \n",
    "    2048, \n",
    "    4096, 8192, 16384, \n",
    "    32768, 65536, 131072, 262144\n",
    "]\n",
    "data = {}\n",
    "for k, attack in enumerate(attacks):\n",
    "    data[attack] = defaultdict(list)\n",
    "    dfs = load_dataframes(net_type, param, sizes, attack, min_nseeds=min_nseeds, nseeds=nseeds)\n",
    "    N_values = np.array(list(dfs.keys()))\n",
    "    L_values = np.sqrt(N_values)\n",
    "    for i, measure in enumerate(measures):\n",
    "        measure_values = get_critical_measures(\n",
    "            dfs, measure, \n",
    "            fc='peak'\n",
    "        )\n",
    "        npoints = len(L_values) - navg\n",
    "        for i in range(npoints):\n",
    "            maxL = L_values[i+navg-1]\n",
    "            Y_pred, slope, y_err = getLinearReg(L_values[i:i+navg], measure_values[i:i+navg])\n",
    "            data[attack][measure].append((maxL, slope, y_err))"
   ]
  },
  {
   "cell_type": "code",
   "execution_count": 52,
   "id": "german-liabilities",
   "metadata": {},
   "outputs": [
    {
     "data": {
      "image/png": "[encoded data removed]",
      "text/plain": [
       "<Figure size 576x432 with 1 Axes>"
      ]
     },
     "metadata": {
      "needs_background": "light"
     },
     "output_type": "display_data"
    }
   ],
   "source": [
    "fig, ax = plt.subplots(figsize=(8,6))\n",
    "ax.set_xscale('log')\n",
    "ax.set_ylabel(r'$\\gamma/\\nu$')\n",
    "ax.set_xticks([32, 64, 128, 256, 512])\n",
    "ax.get_xaxis().set_minor_formatter(mpl.ticker.NullFormatter())\n",
    "ax.get_xaxis().set_major_formatter(mpl.ticker.ScalarFormatter())\n",
    "ax.tick_params(which='minor', length=5)\n",
    "ax.tick_params(which='major', length=8)\n",
    "ax.set_xlabel(r'$L_{\\mathrm{max}}$')\n",
    "for measure in gamma_measures:\n",
    "    aux = np.array(data[attack][measure])\n",
    "    X = aux[:,0]\n",
    "    Y = aux[:,1]\n",
    "    Y_err = aux[:,2]\n",
    "    ax.errorbar(X, Y, Y_err, label=measures_dict[measure])\n",
    "ax.legend()\n",
    "plt.show()"
   ]
  },
  {
   "cell_type": "code",
   "execution_count": null,
   "id": "descending-donna",
   "metadata": {},
   "outputs": [],
   "source": []
  }
 ],
 "metadata": {
  "kernelspec": {
   "display_name": "Python [conda env:networks] *",
   "language": "python",
   "name": "conda-env-networks-py"
  },
  "language_info": {
   "codemirror_mode": {
    "name": "ipython",
    "version": 3
   },
   "file_extension": ".py",
   "mimetype": "text/x-python",
   "name": "python",
   "nbconvert_exporter": "python",
   "pygments_lexer": "ipython3",
   "version": "3.8.8"
  }
 },
 "nbformat": 4,
 "nbformat_minor": 5
}
