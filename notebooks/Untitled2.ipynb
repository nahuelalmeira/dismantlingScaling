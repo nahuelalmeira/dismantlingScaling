{
 "cells": [
  {
   "cell_type": "code",
   "execution_count": 6,
   "metadata": {},
   "outputs": [],
   "source": [
    "import os\n",
    "import sys\n",
    "import numpy as np\n",
    "import pandas as pd\n",
    "import igraph as ig\n",
    "import networkx as nx\n",
    "import seaborn as sns\n",
    "import matplotlib as mpl\n",
    "import matplotlib.pyplot as plt\n",
    "from matplotlib.collections import LineCollection\n",
    "from mpl_settings_v3 import *\n",
    "from plot_auxiliary import *\n",
    "from planar import create_proximity_graph\n",
    "from fractal import get_box_count, get_cluster_densities\n",
    "from auxiliary import getLinearReg, get_base_network_name, powerlaw, load_delta_data, read_data_file\n",
    "\n",
    "%matplotlib inline\n",
    "\n",
    "net_type = 'DT'\n",
    "param = 'param'\n",
    "\n",
    "net_dir = os.path.join('..', 'networks', net_type)"
   ]
  },
  {
   "cell_type": "code",
   "execution_count": 21,
   "metadata": {},
   "outputs": [],
   "source": [
    "size = 512\n",
    "attack = 'BtwU'\n",
    "min_seed = 0\n",
    "max_seed = 100\n",
    "nseeds = max_seed - min_seed\n",
    "\n",
    "for prop in rc_props:\n",
    "    if prop in sys.argv:\n",
    "        rc_props\n",
    "\n",
    "if os.path.isfile(rc_props_file) and not overwrite:\n",
    "    with open(rc_props_file, 'rb') as f:\n",
    "        rc_props_values = pickle.load(f)\n",
    "else:\n",
    "    rc_props_values = {}\n",
    "\n",
    "d_values_dict = {}\n",
    "for i, seed in enumerate(range(min_seed, max_seed)):\n",
    "\n",
    "    base_net_name, base_net_name_size = get_base_network_name(net_type, size, param)\n",
    "    net_name = base_net_name_size + '_{:05d}'.format(seed)\n",
    "    full_net_dir = os.path.join(net_dir, base_net_name, base_net_name_size, net_name)\n",
    "    attack_dir = os.path.join(full_net_dir, attack)\n",
    "    \n",
    "    try:\n",
    "        order = read_data_file(attack_dir, 'oi_list', reader='numpyInt')\n",
    "        g, max_pos, delta_max = load_delta_data(net_type, size, param, attack, seed)\n",
    "        g.delete_vertices(order[:max_pos])\n",
    "    except:\n",
    "        continue\n",
    "    \n",
    "    d = g.diameter()\n",
    "    \n",
    "    d_values_dict[i] = d\n",
    "    \n"
   ]
  },
  {
   "cell_type": "code",
   "execution_count": 22,
   "metadata": {},
   "outputs": [
    {
     "data": {
      "text/plain": [
       "(42.87, 4.168105085047641)"
      ]
     },
     "execution_count": 22,
     "metadata": {},
     "output_type": "execute_result"
    }
   ],
   "source": [
    "d_values.mean(), d_values.std()"
   ]
  },
  {
   "cell_type": "code",
   "execution_count": 10,
   "metadata": {},
   "outputs": [
    {
     "data": {
      "text/plain": [
       "22"
      ]
     },
     "execution_count": 10,
     "metadata": {},
     "output_type": "execute_result"
    }
   ],
   "source": [
    "g.diameter()"
   ]
  },
  {
   "cell_type": "code",
   "execution_count": 17,
   "metadata": {},
   "outputs": [
    {
     "data": {
      "text/plain": [
       "56"
      ]
     },
     "execution_count": 17,
     "metadata": {},
     "output_type": "execute_result"
    }
   ],
   "source": [
    "h.diameter()"
   ]
  },
  {
   "cell_type": "code",
   "execution_count": null,
   "metadata": {},
   "outputs": [],
   "source": []
  }
 ],
 "metadata": {
  "kernelspec": {
   "display_name": "Python [conda env:networks] *",
   "language": "python",
   "name": "conda-env-networks-py"
  },
  "language_info": {
   "codemirror_mode": {
    "name": "ipython",
    "version": 3
   },
   "file_extension": ".py",
   "mimetype": "text/x-python",
   "name": "python",
   "nbconvert_exporter": "python",
   "pygments_lexer": "ipython3",
   "version": "3.8.8"
  }
 },
 "nbformat": 4,
 "nbformat_minor": 4
}
