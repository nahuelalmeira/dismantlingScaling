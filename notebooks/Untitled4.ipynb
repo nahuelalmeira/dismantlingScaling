{
 "cells": [
  {
   "cell_type": "code",
   "execution_count": 19,
   "metadata": {},
   "outputs": [],
   "source": [
    "import os\n",
    "import sys\n",
    "import pandas as pd\n",
    "import numpy as np\n",
    "import matplotlib.pyplot as plt\n",
    "from auxiliary import get_base_network_name, read_data_file\n",
    "\n",
    "%matplotlib inline\n",
    "\n",
    "net_type = 'MR'\n",
    "size = 16384\n",
    "param = 'k6.00'\n",
    "min_seed = 0\n",
    "max_seed = 100\n",
    "nseeds = max_seed - min_seed\n",
    "seeds = range(min_seed, max_seed)\n",
    "\n",
    "dir_name = os.path.join('..', 'networks', net_type)\n",
    "\n",
    "deg_arr = np.zeros((size, nseeds))\n",
    "for i, seed in enumerate(seeds):\n",
    "    base_net_name, base_net_name_size = get_base_network_name(net_type, size, param)\n",
    "    net_name = base_net_name_size + '_{:05d}'.format(seed)\n",
    "    base_net_dir = os.path.join(dir_name, base_net_name, base_net_name_size)\n",
    "    net_dir = os.path.join(base_net_dir, net_name)\n",
    "\n",
    "    g = read_data_file(net_dir, net_name, 'igraph', file_ext='.txt', compress_ext='.tar.gz')\n",
    "    \n",
    "    deg_arr[:,i] = g.degree()"
   ]
  },
  {
   "cell_type": "code",
   "execution_count": 21,
   "metadata": {},
   "outputs": [
    {
     "data": {
      "text/plain": [
       "array([6.05, 5.84, 6.14, ..., 5.78, 5.91, 5.94])"
      ]
     },
     "execution_count": 21,
     "metadata": {},
     "output_type": "execute_result"
    }
   ],
   "source": [
    "deg_arr.mean(axis=1)"
   ]
  },
  {
   "cell_type": "code",
   "execution_count": null,
   "metadata": {},
   "outputs": [],
   "source": []
  }
 ],
 "metadata": {
  "kernelspec": {
   "display_name": "Python [conda env:networks] *",
   "language": "python",
   "name": "conda-env-networks-py"
  },
  "language_info": {
   "codemirror_mode": {
    "name": "ipython",
    "version": 3
   },
   "file_extension": ".py",
   "mimetype": "text/x-python",
   "name": "python",
   "nbconvert_exporter": "python",
   "pygments_lexer": "ipython3",
   "version": "3.8.8"
  }
 },
 "nbformat": 4,
 "nbformat_minor": 4
}
