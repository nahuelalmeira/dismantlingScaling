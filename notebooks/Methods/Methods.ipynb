{
 "cells": [
  {
   "cell_type": "markdown",
   "id": "dependent-wesley",
   "metadata": {},
   "source": [
    "Determinación de $\\beta / \\nu$\n"
   ]
  },
  {
   "cell_type": "code",
   "execution_count": 5,
   "id": "twenty-original",
   "metadata": {},
   "outputs": [],
   "source": [
    "import sys\n",
    "sys.path.append('../../src/robustness/new')\n",
    "from file1 import load_dataframes\n",
    "import matplotlib.pyplot as plt\n",
    "\n",
    "import fssa\n",
    "import numpy as np\n",
    "from scipy.interpolate import interp1d\n",
    "\n",
    "%matplotlib inline"
   ]
  },
  {
   "cell_type": "code",
   "execution_count": 6,
   "id": "cloudy-vintage",
   "metadata": {},
   "outputs": [
    {
     "name": "stdout",
     "output_type": "stream",
     "text": [
      "fc = 0.71429\n"
     ]
    }
   ],
   "source": [
    "net_type = 'DT'\n",
    "param = 'param'\n",
    "attack = 'Ran'\n",
    "spline = False\n",
    "min_seeds = 1000\n",
    "method = 'fast'\n",
    "sizes = [1024, 2048, 4096, 8192, 16384, 32768, 65536]\n",
    "max_size = max(sizes)\n",
    "\n",
    "meank = param\n",
    "fc = 1 - 1/meank\n",
    "print(f'fc = {fc:.5f}')\n",
    "\n",
    "dfs = load_dataframes(\n",
    "    net_type, param, attack, sizes, \n",
    "    min_seeds=min_seeds, spline=spline,\n",
    "    method=method\n",
    ")"
   ]
  },
  {
   "cell_type": "code",
   "execution_count": 7,
   "id": "convinced-assumption",
   "metadata": {},
   "outputs": [
    {
     "ename": "KeyError",
     "evalue": "65536",
     "output_type": "error",
     "traceback": [
      "\u001b[0;31m---------------------------------------------------------------------------\u001b[0m",
      "\u001b[0;31mKeyError\u001b[0m                                  Traceback (most recent call last)",
      "\u001b[0;32m<ipython-input-7-9a4dff3a5cfe>\u001b[0m in \u001b[0;36m<module>\u001b[0;34m\u001b[0m\n\u001b[1;32m      1\u001b[0m \u001b[0mfmin\u001b[0m\u001b[0;34m,\u001b[0m \u001b[0mfmax\u001b[0m \u001b[0;34m=\u001b[0m \u001b[0;36m0.5\u001b[0m\u001b[0;34m,\u001b[0m \u001b[0;36m0.8\u001b[0m\u001b[0;34m\u001b[0m\u001b[0;34m\u001b[0m\u001b[0m\n\u001b[0;32m----> 2\u001b[0;31m \u001b[0mf_values\u001b[0m \u001b[0;34m=\u001b[0m \u001b[0mdfs\u001b[0m\u001b[0;34m[\u001b[0m\u001b[0mmax_size\u001b[0m\u001b[0;34m]\u001b[0m\u001b[0;34m.\u001b[0m\u001b[0mf\u001b[0m\u001b[0;34m.\u001b[0m\u001b[0mvalues\u001b[0m\u001b[0;34m\u001b[0m\u001b[0;34m\u001b[0m\u001b[0m\n\u001b[0m\u001b[1;32m      3\u001b[0m \u001b[0mf_values\u001b[0m \u001b[0;34m=\u001b[0m \u001b[0mf_values\u001b[0m\u001b[0;34m[\u001b[0m\u001b[0;34m(\u001b[0m\u001b[0mf_values\u001b[0m\u001b[0;34m>=\u001b[0m \u001b[0mfmin\u001b[0m\u001b[0;34m)\u001b[0m \u001b[0;34m&\u001b[0m \u001b[0;34m(\u001b[0m\u001b[0mf_values\u001b[0m\u001b[0;34m<=\u001b[0m\u001b[0mfmax\u001b[0m\u001b[0;34m)\u001b[0m\u001b[0;34m]\u001b[0m\u001b[0;34m\u001b[0m\u001b[0;34m\u001b[0m\u001b[0m\n\u001b[1;32m      4\u001b[0m \u001b[0;34m\u001b[0m\u001b[0m\n\u001b[1;32m      5\u001b[0m data = {\n",
      "\u001b[0;31mKeyError\u001b[0m: 65536"
     ]
    }
   ],
   "source": [
    "fmin, fmax = 0.5, 0.8\n",
    "f_values = dfs[max_size].f.values\n",
    "f_values = f_values[(f_values>= fmin) & (f_values<=fmax)]\n",
    "\n",
    "data = {\n",
    "    'meanS': np.zeros((len(sizes), len(f_values))),\n",
    "    'Sgcc': np.zeros((len(sizes), len(f_values)))\n",
    "}\n",
    "data_err = {}\n",
    "\n",
    "fig, axes = plt.subplots(figsize=(16,12), ncols=2, nrows=2)\n",
    "\n",
    "for ax in axes.flatten():\n",
    "    ax.axvline(fc, linestyle='--', color='k')\n",
    "    ax.set_xlim(fmin, fmax)\n",
    "    \n",
    "for ax in axes[0]:\n",
    "    ax.set_ylim(1, 1.05*dfs[max_size].meanS.max())\n",
    "    \n",
    "for ax in axes[1]:\n",
    "    ax.set_ylim(0, .4)\n",
    "    \n",
    "for size in sizes:\n",
    "    df = dfs[size]\n",
    "    df.plot(x='f', y='meanS', ax=axes[0][0], label=size)\n",
    "    \n",
    "ax = axes[0][1]\n",
    "X = f_values\n",
    "for i, size in enumerate(sizes):\n",
    "    df = dfs[size]\n",
    "    #_size = df.Sgcc.values[0]*size\n",
    "    Y = interp1d(df.f, df.meanS, kind='cubic')\n",
    "    data['meanS'][i,:] = Y(X)\n",
    "    #ax.set_xlim(-2, 2)\n",
    "    ax.plot(X, Y(X))\n",
    "    #ax.plot((X-fc)*size**(1/3), Y(X)*_size**(-0.3))\n",
    "    \n",
    "for size in sizes:\n",
    "    df = dfs[size]\n",
    "    df.plot(x='f', y='Sgcc', ax=axes[1][0], label=size)\n",
    "    \n",
    "ax = axes[1][1]\n",
    "X = f_values\n",
    "for i, size in enumerate(sizes):\n",
    "    df = dfs[size]\n",
    "    Y = interp1d(df.f, df.Sgcc, kind='cubic')\n",
    "    data['Sgcc'][i,:] = Y(X)\n",
    "    ax.plot(X, Y(X))"
   ]
  },
  {
   "cell_type": "code",
   "execution_count": 114,
   "id": "fiscal-jefferson",
   "metadata": {},
   "outputs": [
    {
     "ename": "ValueError",
     "evalue": "dy should have only positive values",
     "output_type": "error",
     "traceback": [
      "\u001b[0;31m---------------------------------------------------------------------------\u001b[0m",
      "\u001b[0;31mValueError\u001b[0m                                Traceback (most recent call last)",
      "\u001b[0;32m<ipython-input-114-87690e559e8e>\u001b[0m in \u001b[0;36m<module>\u001b[0;34m\u001b[0m\n\u001b[1;32m      3\u001b[0m \u001b[0mzeta0\u001b[0m \u001b[0;34m=\u001b[0m \u001b[0mgamma0\u001b[0m\u001b[0;34m\u001b[0m\u001b[0;34m\u001b[0m\u001b[0m\n\u001b[1;32m      4\u001b[0m \u001b[0mdata_err\u001b[0m\u001b[0;34m[\u001b[0m\u001b[0;34m'meanS'\u001b[0m\u001b[0;34m]\u001b[0m \u001b[0;34m=\u001b[0m \u001b[0mdata\u001b[0m\u001b[0;34m[\u001b[0m\u001b[0;34m'meanS'\u001b[0m\u001b[0;34m]\u001b[0m \u001b[0;34m*\u001b[0m \u001b[0;36m0.1\u001b[0m\u001b[0;34m\u001b[0m\u001b[0;34m\u001b[0m\u001b[0m\n\u001b[0;32m----> 5\u001b[0;31m \u001b[0mres_meanS\u001b[0m \u001b[0;34m=\u001b[0m \u001b[0mfssa\u001b[0m\u001b[0;34m.\u001b[0m\u001b[0mautoscale\u001b[0m\u001b[0;34m(\u001b[0m\u001b[0msizes\u001b[0m\u001b[0;34m,\u001b[0m \u001b[0mf_values\u001b[0m\u001b[0;34m,\u001b[0m \u001b[0mdata\u001b[0m\u001b[0;34m[\u001b[0m\u001b[0;34m'meanS'\u001b[0m\u001b[0;34m]\u001b[0m\u001b[0;34m,\u001b[0m \u001b[0mdata_err\u001b[0m\u001b[0;34m[\u001b[0m\u001b[0;34m'meanS'\u001b[0m\u001b[0;34m]\u001b[0m\u001b[0;34m,\u001b[0m \u001b[0mfc\u001b[0m\u001b[0;34m,\u001b[0m \u001b[0mnu0\u001b[0m\u001b[0;34m,\u001b[0m \u001b[0mzeta0\u001b[0m\u001b[0;34m)\u001b[0m\u001b[0;34m\u001b[0m\u001b[0;34m\u001b[0m\u001b[0m\n\u001b[0m\u001b[1;32m      6\u001b[0m \u001b[0mres_meanS\u001b[0m\u001b[0;34m\u001b[0m\u001b[0;34m\u001b[0m\u001b[0m\n",
      "\u001b[0;32m~/anaconda3/envs/networks/lib/python3.8/site-packages/fssa/fssa.py\u001b[0m in \u001b[0;36mautoscale\u001b[0;34m(l, rho, a, da, rho_c0, nu0, zeta0, x_bounds, **kwargs)\u001b[0m\n\u001b[1;32m    609\u001b[0m         )\n\u001b[1;32m    610\u001b[0m \u001b[0;34m\u001b[0m\u001b[0m\n\u001b[0;32m--> 611\u001b[0;31m     ret = scipy.optimize.minimize(\n\u001b[0m\u001b[1;32m    612\u001b[0m         \u001b[0mgoal_function\u001b[0m\u001b[0;34m,\u001b[0m\u001b[0;34m\u001b[0m\u001b[0;34m\u001b[0m\u001b[0m\n\u001b[1;32m    613\u001b[0m         \u001b[0;34m[\u001b[0m\u001b[0mrho_c0\u001b[0m\u001b[0;34m,\u001b[0m \u001b[0mnu0\u001b[0m\u001b[0;34m,\u001b[0m \u001b[0mzeta0\u001b[0m\u001b[0;34m]\u001b[0m\u001b[0;34m,\u001b[0m\u001b[0;34m\u001b[0m\u001b[0;34m\u001b[0m\u001b[0m\n",
      "\u001b[0;32m~/anaconda3/envs/networks/lib/python3.8/site-packages/scipy/optimize/_minimize.py\u001b[0m in \u001b[0;36mminimize\u001b[0;34m(fun, x0, args, method, jac, hess, hessp, bounds, constraints, tol, callback, options)\u001b[0m\n\u001b[1;32m    595\u001b[0m         \u001b[0;31m# custom method should be able to accept whatever bounds/constraints\u001b[0m\u001b[0;34m\u001b[0m\u001b[0;34m\u001b[0m\u001b[0;34m\u001b[0m\u001b[0m\n\u001b[1;32m    596\u001b[0m         \u001b[0;31m# are provided to it.\u001b[0m\u001b[0;34m\u001b[0m\u001b[0;34m\u001b[0m\u001b[0;34m\u001b[0m\u001b[0m\n\u001b[0;32m--> 597\u001b[0;31m         return method(fun, x0, args=args, jac=jac, hess=hess, hessp=hessp,\n\u001b[0m\u001b[1;32m    598\u001b[0m                       \u001b[0mbounds\u001b[0m\u001b[0;34m=\u001b[0m\u001b[0mbounds\u001b[0m\u001b[0;34m,\u001b[0m \u001b[0mconstraints\u001b[0m\u001b[0;34m=\u001b[0m\u001b[0mconstraints\u001b[0m\u001b[0;34m,\u001b[0m\u001b[0;34m\u001b[0m\u001b[0;34m\u001b[0m\u001b[0m\n\u001b[1;32m    599\u001b[0m                       callback=callback, **options)\n",
      "\u001b[0;32m~/anaconda3/envs/networks/lib/python3.8/site-packages/fssa/optimize.py\u001b[0m in \u001b[0;36m_minimize_neldermead\u001b[0;34m(func, x0, args, callback, xtol, ftol, maxiter, maxfev, disp, return_all, **unknown_options)\u001b[0m\n\u001b[1;32m     60\u001b[0m     \u001b[0;32mif\u001b[0m \u001b[0mretall\u001b[0m\u001b[0;34m:\u001b[0m\u001b[0;34m\u001b[0m\u001b[0;34m\u001b[0m\u001b[0m\n\u001b[1;32m     61\u001b[0m         \u001b[0mallvecs\u001b[0m \u001b[0;34m=\u001b[0m \u001b[0;34m[\u001b[0m\u001b[0msim\u001b[0m\u001b[0;34m[\u001b[0m\u001b[0;36m0\u001b[0m\u001b[0;34m]\u001b[0m\u001b[0;34m]\u001b[0m\u001b[0;34m\u001b[0m\u001b[0;34m\u001b[0m\u001b[0m\n\u001b[0;32m---> 62\u001b[0;31m     \u001b[0mfsim\u001b[0m\u001b[0;34m[\u001b[0m\u001b[0;36m0\u001b[0m\u001b[0;34m]\u001b[0m \u001b[0;34m=\u001b[0m \u001b[0mfunc\u001b[0m\u001b[0;34m(\u001b[0m\u001b[0mx0\u001b[0m\u001b[0;34m)\u001b[0m\u001b[0;34m\u001b[0m\u001b[0;34m\u001b[0m\u001b[0m\n\u001b[0m\u001b[1;32m     63\u001b[0m     \u001b[0mnonzdelt\u001b[0m \u001b[0;34m=\u001b[0m \u001b[0;36m0.05\u001b[0m\u001b[0;34m\u001b[0m\u001b[0;34m\u001b[0m\u001b[0m\n\u001b[1;32m     64\u001b[0m     \u001b[0mzdelt\u001b[0m \u001b[0;34m=\u001b[0m \u001b[0;36m0.00025\u001b[0m\u001b[0;34m\u001b[0m\u001b[0;34m\u001b[0m\u001b[0m\n",
      "\u001b[0;32m~/anaconda3/envs/networks/lib/python3.8/site-packages/scipy/optimize/optimize.py\u001b[0m in \u001b[0;36mfunction_wrapper\u001b[0;34m(*wrapper_args)\u001b[0m\n\u001b[1;32m    459\u001b[0m     \u001b[0;32mdef\u001b[0m \u001b[0mfunction_wrapper\u001b[0m\u001b[0;34m(\u001b[0m\u001b[0;34m*\u001b[0m\u001b[0mwrapper_args\u001b[0m\u001b[0;34m)\u001b[0m\u001b[0;34m:\u001b[0m\u001b[0;34m\u001b[0m\u001b[0;34m\u001b[0m\u001b[0m\n\u001b[1;32m    460\u001b[0m         \u001b[0mncalls\u001b[0m\u001b[0;34m[\u001b[0m\u001b[0;36m0\u001b[0m\u001b[0;34m]\u001b[0m \u001b[0;34m+=\u001b[0m \u001b[0;36m1\u001b[0m\u001b[0;34m\u001b[0m\u001b[0;34m\u001b[0m\u001b[0m\n\u001b[0;32m--> 461\u001b[0;31m         \u001b[0;32mreturn\u001b[0m \u001b[0mfunction\u001b[0m\u001b[0;34m(\u001b[0m\u001b[0;34m*\u001b[0m\u001b[0;34m(\u001b[0m\u001b[0mwrapper_args\u001b[0m \u001b[0;34m+\u001b[0m \u001b[0margs\u001b[0m\u001b[0;34m)\u001b[0m\u001b[0;34m)\u001b[0m\u001b[0;34m\u001b[0m\u001b[0;34m\u001b[0m\u001b[0m\n\u001b[0m\u001b[1;32m    462\u001b[0m \u001b[0;34m\u001b[0m\u001b[0m\n\u001b[1;32m    463\u001b[0m     \u001b[0;32mreturn\u001b[0m \u001b[0mncalls\u001b[0m\u001b[0;34m,\u001b[0m \u001b[0mfunction_wrapper\u001b[0m\u001b[0;34m\u001b[0m\u001b[0;34m\u001b[0m\u001b[0m\n",
      "\u001b[0;32m~/anaconda3/envs/networks/lib/python3.8/site-packages/fssa/fssa.py\u001b[0m in \u001b[0;36mgoal_function\u001b[0;34m(x)\u001b[0m\n\u001b[1;32m    605\u001b[0m             \u001b[0mrho\u001b[0m\u001b[0;34m=\u001b[0m\u001b[0mrho\u001b[0m\u001b[0;34m,\u001b[0m \u001b[0ml\u001b[0m\u001b[0;34m=\u001b[0m\u001b[0ml\u001b[0m\u001b[0;34m,\u001b[0m \u001b[0ma\u001b[0m\u001b[0;34m=\u001b[0m\u001b[0ma\u001b[0m\u001b[0;34m,\u001b[0m \u001b[0mda\u001b[0m\u001b[0;34m=\u001b[0m\u001b[0mda\u001b[0m\u001b[0;34m,\u001b[0m \u001b[0mnu\u001b[0m\u001b[0;34m=\u001b[0m\u001b[0mx\u001b[0m\u001b[0;34m[\u001b[0m\u001b[0;36m1\u001b[0m\u001b[0;34m]\u001b[0m\u001b[0;34m,\u001b[0m \u001b[0mzeta\u001b[0m\u001b[0;34m=\u001b[0m\u001b[0mx\u001b[0m\u001b[0;34m[\u001b[0m\u001b[0;36m2\u001b[0m\u001b[0;34m]\u001b[0m\u001b[0;34m,\u001b[0m \u001b[0mrho_c\u001b[0m\u001b[0;34m=\u001b[0m\u001b[0mx\u001b[0m\u001b[0;34m[\u001b[0m\u001b[0;36m0\u001b[0m\u001b[0;34m]\u001b[0m\u001b[0;34m,\u001b[0m\u001b[0;34m\u001b[0m\u001b[0;34m\u001b[0m\u001b[0m\n\u001b[1;32m    606\u001b[0m         )\n\u001b[0;32m--> 607\u001b[0;31m         return quality(\n\u001b[0m\u001b[1;32m    608\u001b[0m             \u001b[0mmy_x\u001b[0m\u001b[0;34m,\u001b[0m \u001b[0mmy_y\u001b[0m\u001b[0;34m,\u001b[0m \u001b[0mmy_dy\u001b[0m\u001b[0;34m,\u001b[0m \u001b[0mx_bounds\u001b[0m\u001b[0;34m=\u001b[0m\u001b[0mx_bounds\u001b[0m\u001b[0;34m,\u001b[0m\u001b[0;34m\u001b[0m\u001b[0;34m\u001b[0m\u001b[0m\n\u001b[1;32m    609\u001b[0m         )\n",
      "\u001b[0;32m~/anaconda3/envs/networks/lib/python3.8/site-packages/fssa/fssa.py\u001b[0m in \u001b[0;36mquality\u001b[0;34m(x, y, dy, x_bounds)\u001b[0m\n\u001b[1;32m    390\u001b[0m     \u001b[0;31m# dy should have only positive entries\u001b[0m\u001b[0;34m\u001b[0m\u001b[0;34m\u001b[0m\u001b[0;34m\u001b[0m\u001b[0m\n\u001b[1;32m    391\u001b[0m     \u001b[0;32mif\u001b[0m \u001b[0;32mnot\u001b[0m \u001b[0mnp\u001b[0m\u001b[0;34m.\u001b[0m\u001b[0mall\u001b[0m\u001b[0;34m(\u001b[0m\u001b[0mdy\u001b[0m \u001b[0;34m>\u001b[0m \u001b[0;36m0.0\u001b[0m\u001b[0;34m)\u001b[0m\u001b[0;34m:\u001b[0m\u001b[0;34m\u001b[0m\u001b[0;34m\u001b[0m\u001b[0m\n\u001b[0;32m--> 392\u001b[0;31m         \u001b[0;32mraise\u001b[0m \u001b[0mValueError\u001b[0m\u001b[0;34m(\u001b[0m\u001b[0;34m\"dy should have only positive values\"\u001b[0m\u001b[0;34m)\u001b[0m\u001b[0;34m\u001b[0m\u001b[0;34m\u001b[0m\u001b[0m\n\u001b[0m\u001b[1;32m    393\u001b[0m \u001b[0;34m\u001b[0m\u001b[0m\n\u001b[1;32m    394\u001b[0m     \u001b[0;31m# first dimension: system sizes l\u001b[0m\u001b[0;34m\u001b[0m\u001b[0;34m\u001b[0m\u001b[0;34m\u001b[0m\u001b[0m\n",
      "\u001b[0;31mValueError\u001b[0m: dy should have only positive values"
     ]
    }
   ],
   "source": [
    "gamma0 = 1\n",
    "nu0 = 3\n",
    "zeta0 = gamma0\n",
    "data_err['meanS'] = data['meanS'] * 0.1\n",
    "res_meanS = fssa.autoscale(sizes, f_values, data['meanS'], data_err['meanS'], fc, nu0, zeta0)\n",
    "res_meanS"
   ]
  },
  {
   "cell_type": "code",
   "execution_count": 109,
   "id": "diagnostic-female",
   "metadata": {},
   "outputs": [
    {
     "ename": "ValueError",
     "evalue": "da should have shape (l.size, rho.size)",
     "output_type": "error",
     "traceback": [
      "\u001b[0;31m---------------------------------------------------------------------------\u001b[0m",
      "\u001b[0;31mValueError\u001b[0m                                Traceback (most recent call last)",
      "\u001b[0;32m<ipython-input-109-d900f5107a01>\u001b[0m in \u001b[0;36m<module>\u001b[0;34m\u001b[0m\n\u001b[0;32m----> 1\u001b[0;31m \u001b[0mauto_scaled_data\u001b[0m \u001b[0;34m=\u001b[0m \u001b[0mfssa\u001b[0m\u001b[0;34m.\u001b[0m\u001b[0mscaledata\u001b[0m\u001b[0;34m(\u001b[0m\u001b[0msizes\u001b[0m\u001b[0;34m,\u001b[0m \u001b[0mf_values\u001b[0m\u001b[0;34m,\u001b[0m \u001b[0mdata\u001b[0m\u001b[0;34m[\u001b[0m\u001b[0;34m'meanS'\u001b[0m\u001b[0;34m]\u001b[0m\u001b[0;34m,\u001b[0m \u001b[0mdata_err\u001b[0m\u001b[0;34m,\u001b[0m \u001b[0mres_meanS\u001b[0m\u001b[0;34m.\u001b[0m\u001b[0mrho\u001b[0m\u001b[0;34m,\u001b[0m \u001b[0mres_meanS\u001b[0m\u001b[0;34m.\u001b[0m\u001b[0mnu\u001b[0m\u001b[0;34m,\u001b[0m \u001b[0mres_meanS\u001b[0m\u001b[0;34m.\u001b[0m\u001b[0mzeta\u001b[0m\u001b[0;34m)\u001b[0m\u001b[0;34m\u001b[0m\u001b[0;34m\u001b[0m\u001b[0m\n\u001b[0m\u001b[1;32m      2\u001b[0m \u001b[0;34m\u001b[0m\u001b[0m\n\u001b[1;32m      3\u001b[0m \u001b[0mfig\u001b[0m\u001b[0;34m,\u001b[0m \u001b[0maxes\u001b[0m \u001b[0;34m=\u001b[0m \u001b[0mplt\u001b[0m\u001b[0;34m.\u001b[0m\u001b[0msubplots\u001b[0m\u001b[0;34m(\u001b[0m\u001b[0mfigsize\u001b[0m\u001b[0;34m=\u001b[0m\u001b[0;34m(\u001b[0m\u001b[0;36m16\u001b[0m\u001b[0;34m,\u001b[0m \u001b[0;36m6\u001b[0m\u001b[0;34m)\u001b[0m\u001b[0;34m,\u001b[0m \u001b[0mncols\u001b[0m\u001b[0;34m=\u001b[0m\u001b[0;36m2\u001b[0m\u001b[0;34m)\u001b[0m\u001b[0;34m\u001b[0m\u001b[0;34m\u001b[0m\u001b[0m\n\u001b[1;32m      4\u001b[0m \u001b[0;34m\u001b[0m\u001b[0m\n\u001b[1;32m      5\u001b[0m \u001b[0max\u001b[0m \u001b[0;34m=\u001b[0m \u001b[0maxes\u001b[0m\u001b[0;34m[\u001b[0m\u001b[0;36m0\u001b[0m\u001b[0;34m]\u001b[0m\u001b[0;34m\u001b[0m\u001b[0;34m\u001b[0m\u001b[0m\n",
      "\u001b[0;32m~/anaconda3/envs/networks/lib/python3.8/site-packages/fssa/fssa.py\u001b[0m in \u001b[0;36mscaledata\u001b[0;34m(l, rho, a, da, rho_c, nu, zeta)\u001b[0m\n\u001b[1;32m    156\u001b[0m     \u001b[0;31m# da should have shape (l.size, rho.size)\u001b[0m\u001b[0;34m\u001b[0m\u001b[0;34m\u001b[0m\u001b[0;34m\u001b[0m\u001b[0m\n\u001b[1;32m    157\u001b[0m     \u001b[0;32mif\u001b[0m \u001b[0mda\u001b[0m\u001b[0;34m.\u001b[0m\u001b[0mshape\u001b[0m \u001b[0;34m!=\u001b[0m \u001b[0;34m(\u001b[0m\u001b[0ml\u001b[0m\u001b[0;34m.\u001b[0m\u001b[0msize\u001b[0m\u001b[0;34m,\u001b[0m \u001b[0mrho\u001b[0m\u001b[0;34m.\u001b[0m\u001b[0msize\u001b[0m\u001b[0;34m)\u001b[0m\u001b[0;34m:\u001b[0m\u001b[0;34m\u001b[0m\u001b[0;34m\u001b[0m\u001b[0m\n\u001b[0;32m--> 158\u001b[0;31m         \u001b[0;32mraise\u001b[0m \u001b[0mValueError\u001b[0m\u001b[0;34m(\u001b[0m\u001b[0;34m\"da should have shape (l.size, rho.size)\"\u001b[0m\u001b[0;34m)\u001b[0m\u001b[0;34m\u001b[0m\u001b[0;34m\u001b[0m\u001b[0m\n\u001b[0m\u001b[1;32m    159\u001b[0m \u001b[0;34m\u001b[0m\u001b[0m\n\u001b[1;32m    160\u001b[0m     \u001b[0;31m# rho_c should be float\u001b[0m\u001b[0;34m\u001b[0m\u001b[0;34m\u001b[0m\u001b[0;34m\u001b[0m\u001b[0m\n",
      "\u001b[0;31mValueError\u001b[0m: da should have shape (l.size, rho.size)"
     ]
    }
   ],
   "source": [
    "auto_scaled_data = fssa.scaledata(sizes, f_values, data['meanS'], data_err['meanS'], res_meanS.rho, res_meanS.nu, res_meanS.zeta)\n",
    "\n",
    "fig, axes = plt.subplots(figsize=(16, 6), ncols=2)\n",
    "\n",
    "ax = axes[0]\n",
    "ax.plot(\n",
    "    auto_scaled_data.x.T, auto_scaled_data.y.T,\n",
    "    '-',\n",
    ")\n",
    "#ax.set_xlim(-4, 2)\n",
    "\n",
    "\n",
    "ax = axes[1]\n",
    "for size in sizes:\n",
    "    df = dfs[size]\n",
    "    X = (df.f-fc)*size**(1/nu0)\n",
    "    Y = df.meanS*size**(-gamma0/nu0)\n",
    "    #Y = df.meanS*size**(-0.25)\n",
    "    ax.plot(X, Y)\n",
    "ax.set_xlim(-2, 2)\n",
    "plt.show()"
   ]
  },
  {
   "cell_type": "code",
   "execution_count": 93,
   "id": "american-curve",
   "metadata": {},
   "outputs": [
    {
     "name": "stderr",
     "output_type": "stream",
     "text": [
      "/home/nahuel/anaconda3/envs/networks/lib/python3.8/site-packages/fssa/fssa.py:165: RuntimeWarning: rho_c is out of range\n",
      "  warnings.warn(\"rho_c is out of range\", RuntimeWarning)\n"
     ]
    },
    {
     "data": {
      "text/plain": [
       "           dnu: 0.07435511238478378\n",
       "          drho: 0.0028935873918180593\n",
       "         dzeta: 0.042287216525100035\n",
       "        errors: array([0.00289359, 0.07435511, 0.04228722])\n",
       " final_simplex: (array([[ 0.70879832,  2.99117276, -0.85101009],\n",
       "       [ 0.70896313,  2.9828739 , -0.85111474],\n",
       "       [ 0.70868033,  2.99167249, -0.84899596],\n",
       "       [ 0.7088364 ,  2.98577948, -0.85093493]]), array([0.00212939, 0.00213395, 0.00213405, 0.00214518]))\n",
       "           fun: 0.0021293905609562507\n",
       "       message: 'Optimization terminated successfully.'\n",
       "          nfev: 129\n",
       "           nit: 73\n",
       "            nu: 2.9911727597267816\n",
       "           rho: 0.7087983181674447\n",
       "        status: 0\n",
       "       success: True\n",
       "         varco: array([[ 8.37284799e-06, -1.06615585e-04, -1.10502349e-04],\n",
       "       [-1.06615585e-04,  5.52868274e-03,  7.05106197e-04],\n",
       "       [-1.10502349e-04,  7.05106197e-04,  1.78820868e-03]])\n",
       "             x: array([ 0.70879832,  2.99117276, -0.85101009])\n",
       "          zeta: -0.8510100885844603"
      ]
     },
     "execution_count": 93,
     "metadata": {},
     "output_type": "execute_result"
    }
   ],
   "source": [
    "beta0 = 1\n",
    "nu0 = 3\n",
    "zeta0 = beta0\n",
    "data_err['Sgcc'] = data['Sgcc'] * 0.1\n",
    "res_Sgcc = fssa.autoscale(sizes, f_values, data['Sgcc'], data_err['Sgcc'], fc, nu0, zeta0)\n",
    "res_Sgcc"
   ]
  },
  {
   "cell_type": "code",
   "execution_count": 94,
   "id": "arctic-bouquet",
   "metadata": {},
   "outputs": [
    {
     "data": {
      "image/png": "[encoded data removed]",
      "text/plain": [
       "<Figure size 1152x432 with 2 Axes>"
      ]
     },
     "metadata": {
      "needs_background": "light"
     },
     "output_type": "display_data"
    }
   ],
   "source": [
    "auto_scaled_data = fssa.scaledata(sizes, f_values, data['Sgcc'], data_err['Sgcc'], res_Sgcc.rho, res_Sgcc.nu, res_Sgcc.zeta)\n",
    "\n",
    "fig, axes = plt.subplots(figsize=(16, 6), ncols=2)\n",
    "\n",
    "ax = axes[0]\n",
    "ax.plot(\n",
    "    auto_scaled_data.x.T, auto_scaled_data.y.T,\n",
    "    '-',\n",
    ")\n",
    "ax.set_ylim(0, 5)\n",
    "#ax.set_xlim(-4, 2)\n",
    "\n",
    "ax = axes[1]\n",
    "for size in sizes:\n",
    "    df = dfs[size]\n",
    "    X = (df.f-fc)*size**(1/nu0)\n",
    "    Y = df.Sgcc*size**(beta0/nu0)\n",
    "    ax.plot(X, Y)\n",
    "ax.set_ylim(0, 5)\n",
    "ax.set_xlim(-2, 2)\n",
    "plt.show()"
   ]
  },
  {
   "cell_type": "code",
   "execution_count": null,
   "id": "planned-embassy",
   "metadata": {},
   "outputs": [],
   "source": []
  }
 ],
 "metadata": {
  "kernelspec": {
   "display_name": "Python [conda env:networks] *",
   "language": "python",
   "name": "conda-env-networks-py"
  },
  "language_info": {
   "codemirror_mode": {
    "name": "ipython",
    "version": 3
   },
   "file_extension": ".py",
   "mimetype": "text/x-python",
   "name": "python",
   "nbconvert_exporter": "python",
   "pygments_lexer": "ipython3",
   "version": "3.8.8"
  }
 },
 "nbformat": 4,
 "nbformat_minor": 5
}
